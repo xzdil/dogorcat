{
  "nbformat": 4,
  "nbformat_minor": 0,
  "metadata": {
    "colab": {
      "provenance": [],
      "include_colab_link": true
    },
    "kernelspec": {
      "name": "python3",
      "display_name": "Python 3"
    },
    "accelerator": "GPU"
  },
  "cells": [
    {
      "cell_type": "markdown",
      "metadata": {
        "id": "view-in-github",
        "colab_type": "text"
      },
      "source": [
        "<a href=\"https://colab.research.google.com/github/xzdil/googlecollabprojects/blob/main/Adil_Rakhimzhanov_BD_2106_assignment1.ipynb\" target=\"_parent\"><img src=\"https://colab.research.google.com/assets/colab-badge.svg\" alt=\"Open In Colab\"/></a>"
      ]
    },
    {
      "cell_type": "markdown",
      "metadata": {
        "id": "-PZihj-d_tEt"
      },
      "source": [
        "**Assignment 1**\n",
        "\n",
        "## About\n",
        "In this assignment, you will gain experience implementing a linear model, a neural network, and a deep neural network using TensorFlow 2.0. \n",
        "\n",
        "* You will use two different development styles. I thought it’d be helpful for you to see both of these early (if you’re familiar with them, you can branch out to any major framework that exist today). \n",
        "\n",
        "* Along the way, you'll add code to visualize the weights of a linear model, and provide your own implementation of softmax (so you learn to extend the built-in functionality right off the bat).\n",
        "\n",
        "This assignment has several parts, plan ahead and get started early (and come to with question to practice sessions if you’re stuck).\n",
        "\n",
        "## Instructions\n",
        "\n",
        "Complete the code in this notebook by searching for the text **\"TODO\"**.\n",
        "\n",
        "## Submission instructions\n",
        "\n",
        "Please submit this assignment on Moodle by uploading a Colab notebook that includes saved output. In Colab, you can prepare your notebook for submission by ensuring that runs end-to-end, then saving and downloading it:\n",
        "\n",
        "1. ```Runtime -> Restart and run all```\n",
        "1. ```File -> Save```\n",
        "1. ```File -> Download.ipynb```\n",
        "\n",
        "## Resources\n",
        "\n",
        "You can find all the latest tutorials for TensorFlow 2.0 [here](https://www.tensorflow.org/tutorials). Code examples that will help you with each part of the assignment are linked below.\n",
        "\n",
        "\n",
        "\n",
        "---"
      ]
    },
    {
      "cell_type": "markdown",
      "metadata": {
        "id": "KZ5ssDBBl9n6"
      },
      "source": [
        "## Setup"
      ]
    },
    {
      "cell_type": "markdown",
      "metadata": {
        "id": "MDj1_w6v-mYW"
      },
      "source": [
        "### Install TensorFlow 2.0\n",
        "\n",
        "The most recent version of TensorFlow is alreadey installed in Colab."
      ]
    },
    {
      "cell_type": "markdown",
      "metadata": {
        "id": "QYSALG-y-_7b"
      },
      "source": [
        "### Check which TF version is installed\n",
        "It's good practice to check which version you have installed."
      ]
    },
    {
      "cell_type": "code",
      "metadata": {
        "id": "21RQ0x71Ut_t",
        "colab": {
          "base_uri": "https://localhost:8080/"
        },
        "outputId": "fe2fc57f-88e5-4bae-ea0f-87b1ac5ebd2f"
      },
      "source": [
        "import tensorflow as tf\n",
        "print(tf.__version__)"
      ],
      "execution_count": null,
      "outputs": [
        {
          "output_type": "stream",
          "name": "stdout",
          "text": [
            "2.9.2\n"
          ]
        }
      ]
    },
    {
      "cell_type": "code",
      "metadata": {
        "id": "JQPA61YHUvht"
      },
      "source": [
        "from tensorflow.keras.layers import Dense, Flatten \n",
        "from tensorflow.keras import Model\n",
        "import matplotlib.pyplot as plt"
      ],
      "execution_count": null,
      "outputs": []
    },
    {
      "cell_type": "markdown",
      "metadata": {
        "id": "9vfWS0eYvzae"
      },
      "source": [
        "## Part 1: First steps with Sequential models\n",
        "\n",
        "You will work with the Sequential API in this section. This is the easiest way to develop models with TF 2.0, and is the most common in practice. \n",
        "\n",
        "Here are a few code examples that will help you with this part of the assignment:\n",
        "\n",
        "* [Get started for beginners](https://www.tensorflow.org/tutorials/quickstart/beginner)\n",
        "* [Classify images](https://www.tensorflow.org/tutorials/keras/classification)\n",
        "* [Explore overfitting and underfitting](https://www.tensorflow.org/tutorials/keras/overfit_and_underfit)"
      ]
    },
    {
      "cell_type": "markdown",
      "metadata": {
        "id": "6X5681LTm0jC"
      },
      "source": [
        "### Download and prepare a dataset"
      ]
    },
    {
      "cell_type": "code",
      "metadata": {
        "id": "KHL51OKlmwyw",
        "colab": {
          "base_uri": "https://localhost:8080/"
        },
        "outputId": "db2b6cf3-27c6-4171-aa6e-267687038c6b"
      },
      "source": [
        "mnist = tf.keras.datasets.mnist\n",
        "\n",
        "(x_train, y_train), (x_test, y_test) = mnist.load_data()\n",
        "x_train, x_test = x_train / 255.0, x_test / 255.0"
      ],
      "execution_count": null,
      "outputs": [
        {
          "output_type": "stream",
          "name": "stdout",
          "text": [
            "Downloading data from https://storage.googleapis.com/tensorflow/tf-keras-datasets/mnist.npz\n",
            "11490434/11490434 [==============================] - 1s 0us/step\n"
          ]
        }
      ]
    },
    {
      "cell_type": "markdown",
      "metadata": {
        "id": "daw-THC6m4u6"
      },
      "source": [
        "### Define, train, and evaluate a linear model"
      ]
    },
    {
      "cell_type": "code",
      "metadata": {
        "id": "MHWcSJEQm8jB",
        "colab": {
          "base_uri": "https://localhost:8080/"
        },
        "outputId": "96149027-27c6-47af-ea35-53009ee49707"
      },
      "source": [
        "model = tf.keras.models.Sequential([\n",
        "  tf.keras.layers.Flatten(input_shape=(28, 28)),\n",
        "  tf.keras.layers.Dense(10, activation='softmax')\n",
        "])\n",
        "\n",
        "model.compile(optimizer='adam',\n",
        "              loss='sparse_categorical_crossentropy',\n",
        "              metrics=['accuracy'])\n",
        "\n",
        "model.fit(x_train, y_train, epochs=5)\n",
        "model.evaluate(x_test, y_test)"
      ],
      "execution_count": null,
      "outputs": [
        {
          "output_type": "stream",
          "name": "stdout",
          "text": [
            "Epoch 1/5\n",
            "1875/1875 [==============================] - 6s 2ms/step - loss: 0.4671 - accuracy: 0.8779\n",
            "Epoch 2/5\n",
            "1875/1875 [==============================] - 4s 2ms/step - loss: 0.3036 - accuracy: 0.9152\n",
            "Epoch 3/5\n",
            "1875/1875 [==============================] - 4s 2ms/step - loss: 0.2833 - accuracy: 0.9212\n",
            "Epoch 4/5\n",
            "1875/1875 [==============================] - 4s 2ms/step - loss: 0.2732 - accuracy: 0.9232\n",
            "Epoch 5/5\n",
            "1875/1875 [==============================] - 4s 2ms/step - loss: 0.2667 - accuracy: 0.9255\n",
            "313/313 [==============================] - 1s 2ms/step - loss: 0.2776 - accuracy: 0.9227\n"
          ]
        },
        {
          "output_type": "execute_result",
          "data": {
            "text/plain": [
              "[0.27762559056282043, 0.9226999878883362]"
            ]
          },
          "metadata": {},
          "execution_count": 5
        }
      ]
    },
    {
      "cell_type": "markdown",
      "metadata": {
        "id": "KyLE9HJbwRDp"
      },
      "source": [
        "### 1a: Plot loss and accuracy\n",
        "\n",
        "**TODO**\n",
        "\n",
        "Modify the code below to produce plots showing loss and accuracy as a function of epochs on training and validation data (it's fine to use x_test and y_test as validation data for this assignment). To do so, you will need to add validation data to the call for ```model.fit```, and capture the results in a history object. Code for plotting is provided for you, you can pass your history object to this."
      ]
    },
    {
      "cell_type": "code",
      "metadata": {
        "id": "xGFjRexynN11",
        "colab": {
          "base_uri": "https://localhost:8080/",
          "height": 958
        },
        "outputId": "9fcf76d7-ce13-4ddd-e854-ea55c758ab97"
      },
      "source": [
        "model = tf.keras.models.Sequential([\n",
        "  tf.keras.layers.Flatten(input_shape=(28, 28)),\n",
        "  tf.keras.layers.Dense(10, activation='softmax')\n",
        "])\n",
        "\n",
        "model.compile(optimizer='adam',\n",
        "              loss='sparse_categorical_crossentropy',\n",
        "              metrics=['accuracy'])\n",
        "\n",
        "\n",
        "# TODO\n",
        "#\n",
        "# 1. create a history object to store the results of model.fit\n",
        "#\n",
        "#\n",
        "# 2. add another parameter to model.fit for validation data\n",
        "# https://keras.io/models/sequential/\n",
        "\n",
        "#model.fit(x_train, y_train, epochs=10)\n",
        "\n",
        "import pandas as pd\n",
        "\n",
        "history = model.fit(x_train, y_train, validation_split=0.2, epochs=10)\n",
        "print(history.history)\n",
        "\n",
        "def plot(history):\n",
        "  \n",
        "  # The history object contains results on the training and test\n",
        "  # sets for each epoch\n",
        "  acc = history.history['accuracy']\n",
        "  val_acc = history.history['val_accuracy']\n",
        "  loss = history.history['loss']\n",
        "  val_loss = history.history['val_loss']\n",
        "\n",
        "  # Get the number of epochs\n",
        "  epochs = range(len(acc))\n",
        "\n",
        "  plt.title('Training and validation accuracy')\n",
        "  plt.plot(epochs, acc, color='blue', label='Train')\n",
        "  plt.plot(epochs, val_acc, color='orange', label='Val')\n",
        "  plt.xlabel('Epoch')\n",
        "  plt.ylabel('Accuracy')\n",
        "  plt.legend()\n",
        "\n",
        "  _ = plt.figure()\n",
        "  plt.title('Training and validation loss')\n",
        "  plt.plot(epochs, loss, color='blue', label='Train')\n",
        "  plt.plot(epochs, val_loss, color='orange', label='Val')\n",
        "  plt.xlabel('Epoch')\n",
        "  plt.ylabel('Loss')\n",
        "  plt.legend()\n",
        "\n",
        "plot(history)"
      ],
      "execution_count": null,
      "outputs": [
        {
          "output_type": "stream",
          "name": "stdout",
          "text": [
            "Epoch 1/10\n",
            "1500/1500 [==============================] - 4s 3ms/step - loss: 0.5140 - accuracy: 0.8663 - val_loss: 0.3187 - val_accuracy: 0.9115\n",
            "Epoch 2/10\n",
            "1500/1500 [==============================] - 4s 2ms/step - loss: 0.3177 - accuracy: 0.9120 - val_loss: 0.2867 - val_accuracy: 0.9183\n",
            "Epoch 3/10\n",
            "1500/1500 [==============================] - 4s 2ms/step - loss: 0.2935 - accuracy: 0.9178 - val_loss: 0.2771 - val_accuracy: 0.9220\n",
            "Epoch 4/10\n",
            "1500/1500 [==============================] - 5s 3ms/step - loss: 0.2809 - accuracy: 0.9205 - val_loss: 0.2710 - val_accuracy: 0.9256\n",
            "Epoch 5/10\n",
            "1500/1500 [==============================] - 4s 2ms/step - loss: 0.2738 - accuracy: 0.9232 - val_loss: 0.2668 - val_accuracy: 0.9267\n",
            "Epoch 6/10\n",
            "1500/1500 [==============================] - 4s 2ms/step - loss: 0.2681 - accuracy: 0.9252 - val_loss: 0.2649 - val_accuracy: 0.9274\n",
            "Epoch 7/10\n",
            "1500/1500 [==============================] - 4s 3ms/step - loss: 0.2636 - accuracy: 0.9263 - val_loss: 0.2631 - val_accuracy: 0.9271\n",
            "Epoch 8/10\n",
            "1500/1500 [==============================] - 4s 3ms/step - loss: 0.2603 - accuracy: 0.9272 - val_loss: 0.2639 - val_accuracy: 0.9273\n",
            "Epoch 9/10\n",
            "1500/1500 [==============================] - 4s 2ms/step - loss: 0.2576 - accuracy: 0.9281 - val_loss: 0.2616 - val_accuracy: 0.9282\n",
            "Epoch 10/10\n",
            "1500/1500 [==============================] - 4s 2ms/step - loss: 0.2551 - accuracy: 0.9289 - val_loss: 0.2620 - val_accuracy: 0.9291\n",
            "{'loss': [0.5140494108200073, 0.3177177309989929, 0.29353591799736023, 0.2809438407421112, 0.27377593517303467, 0.26812034845352173, 0.2636321485042572, 0.26028773188591003, 0.2576030194759369, 0.255146324634552], 'accuracy': [0.8663125038146973, 0.9120000004768372, 0.9177916646003723, 0.9205208420753479, 0.9231666922569275, 0.9251875281333923, 0.9263125061988831, 0.9271666407585144, 0.9281250238418579, 0.9289166927337646], 'val_loss': [0.31874406337738037, 0.2867187559604645, 0.27705931663513184, 0.27097684144973755, 0.26679590344429016, 0.26491081714630127, 0.2631343901157379, 0.2639089822769165, 0.26163217425346375, 0.2619835436344147], 'val_accuracy': [0.9114999771118164, 0.9182500243186951, 0.921999990940094, 0.9255833625793457, 0.9266666769981384, 0.9274166822433472, 0.9270833134651184, 0.9272500276565552, 0.9281666874885559, 0.9290833473205566]}\n"
          ]
        },
        {
          "output_type": "display_data",
          "data": {
            "text/plain": [
              "<Figure size 432x288 with 1 Axes>"
            ],
            "image/png": "[encoded data removed]"
          },
          "metadata": {
            "needs_background": "light"
          }
        },
        {
          "output_type": "display_data",
          "data": {
            "text/plain": [
              "<Figure size 432x288 with 1 Axes>"
            ],
            "image/png": "[encoded data removed]"
          },
          "metadata": {
            "needs_background": "light"
          }
        }
      ]
    },
    {
      "cell_type": "markdown",
      "metadata": {
        "id": "4EhrKNT8wfgD"
      },
      "source": [
        "### 1b: Implement a neural network \n",
        "\n",
        "**TODO**\n",
        "\n",
        "Modify the code below to create a neural network (with a single hidden layer). Add a Dense layer with 128 units and ReLU activation. Train and evaluate your model. How does the accuracy compare with the linear model above? It is not necessary to produce plots for this section."
      ]
    },
    {
      "cell_type": "code",
      "metadata": {
        "id": "FYUgpSwPq-HF",
        "colab": {
          "base_uri": "https://localhost:8080/",
          "height": 747
        },
        "outputId": "606feb2d-0ad7-47c4-9d19-0b1a8eecb20e"
      },
      "source": [
        "model = tf.keras.models.Sequential([\n",
        "  tf.keras.layers.Flatten(input_shape=(28, 28)),\n",
        "  tf.keras.layers.Dense(128, activation='ReLU'),\n",
        "  tf.keras.layers.Dense(10, activation='softmax')\n",
        "])\n",
        "\n",
        "model.compile(optimizer='adam',\n",
        "              loss='sparse_categorical_crossentropy',\n",
        "              metrics=['accuracy'])\n",
        "\n",
        "history2 = model.fit(x_train, y_train,validation_split=0.3, epochs=5)\n",
        "plot(history2)"
      ],
      "execution_count": null,
      "outputs": [
        {
          "output_type": "stream",
          "name": "stdout",
          "text": [
            "Epoch 1/5\n",
            "1313/1313 [==============================] - 5s 4ms/step - loss: 0.2971 - accuracy: 0.9152 - val_loss: 0.1852 - val_accuracy: 0.9445\n",
            "Epoch 2/5\n",
            "1313/1313 [==============================] - 5s 4ms/step - loss: 0.1345 - accuracy: 0.9598 - val_loss: 0.1320 - val_accuracy: 0.9614\n",
            "Epoch 3/5\n",
            "1313/1313 [==============================] - 5s 4ms/step - loss: 0.0914 - accuracy: 0.9730 - val_loss: 0.1340 - val_accuracy: 0.9593\n",
            "Epoch 4/5\n",
            "1313/1313 [==============================] - 5s 4ms/step - loss: 0.0670 - accuracy: 0.9798 - val_loss: 0.1097 - val_accuracy: 0.9697\n",
            "Epoch 5/5\n",
            "1313/1313 [==============================] - 5s 4ms/step - loss: 0.0512 - accuracy: 0.9842 - val_loss: 0.0947 - val_accuracy: 0.9723\n"
          ]
        },
        {
          "output_type": "display_data",
          "data": {
            "text/plain": [
              "<Figure size 432x288 with 1 Axes>"
            ],
            "image/png": "[encoded data removed]"
          },
          "metadata": {
            "needs_background": "light"
          }
        },
        {
          "output_type": "display_data",
          "data": {
            "text/plain": [
              "<Figure size 432x288 with 1 Axes>"
            ],
            "image/png": "[encoded data removed]"
          },
          "metadata": {
            "needs_background": "light"
          }
        }
      ]
    },
    {
      "cell_type": "markdown",
      "metadata": {
        "id": "V18pDvPzwh6l"
      },
      "source": [
        "### 1c: Implement a deep neural network \n",
        "\n",
        "**TODO**\n",
        "\n",
        "Modify the code below to create and train a deep neural network with at least two hidden layers."
      ]
    },
    {
      "cell_type": "code",
      "metadata": {
        "id": "K0odgGhmrNNh",
        "colab": {
          "base_uri": "https://localhost:8080/",
          "height": 747
        },
        "outputId": "46c0a31f-cacc-4322-ddca-77b0f27d4690"
      },
      "source": [
        "model_1 = tf.keras.models.Sequential([\n",
        "  tf.keras.layers.Flatten(input_shape=(28, 28)),\n",
        "  tf.keras.layers.Dense(128, activation='ReLU'),\n",
        "  tf.keras.layers.Dense(10, activation='softmax')\n",
        "])\n",
        "\n",
        "model_1.compile(optimizer='adam',\n",
        "              loss='sparse_categorical_crossentropy',\n",
        "              metrics=['accuracy'])\n",
        "\n",
        "history3 = model_1.fit(x_train, y_train,validation_split=0.5, epochs=5)\n",
        "plot(history3)"
      ],
      "execution_count": null,
      "outputs": [
        {
          "output_type": "stream",
          "name": "stdout",
          "text": [
            "Epoch 1/5\n",
            "938/938 [==============================] - 5s 5ms/step - loss: 0.3432 - accuracy: 0.9040 - val_loss: 0.2046 - val_accuracy: 0.9420\n",
            "Epoch 2/5\n",
            "938/938 [==============================] - 5s 5ms/step - loss: 0.1599 - accuracy: 0.9547 - val_loss: 0.1502 - val_accuracy: 0.9569\n",
            "Epoch 3/5\n",
            "938/938 [==============================] - 4s 5ms/step - loss: 0.1091 - accuracy: 0.9680 - val_loss: 0.1435 - val_accuracy: 0.9578\n",
            "Epoch 4/5\n",
            "938/938 [==============================] - 4s 5ms/step - loss: 0.0799 - accuracy: 0.9772 - val_loss: 0.1195 - val_accuracy: 0.9658\n",
            "Epoch 5/5\n",
            "938/938 [==============================] - 5s 5ms/step - loss: 0.0613 - accuracy: 0.9821 - val_loss: 0.1167 - val_accuracy: 0.9661\n"
          ]
        },
        {
          "output_type": "display_data",
          "data": {
            "text/plain": [
              "<Figure size 432x288 with 1 Axes>"
            ],
            "image/png": "[encoded data removed]"
          },
          "metadata": {
            "needs_background": "light"
          }
        },
        {
          "output_type": "display_data",
          "data": {
            "text/plain": [
              "<Figure size 432x288 with 1 Axes>"
            ],
            "image/png": "[encoded data removed]"
          },
          "metadata": {
            "needs_background": "light"
          }
        }
      ]
    },
    {
      "cell_type": "markdown",
      "metadata": {
        "id": "NkmnVGG-wnyw"
      },
      "source": [
        "### 1d: Display predictions and their confidence \n",
        "\n",
        "**TODO**\n",
        "\n",
        "1. Choose one of your models above. Use it to make predictions on the entire test set using ```model.predict```\n",
        "\n",
        "2. Next, identify one image from the testing set the model classifies correctly, and another that it classifies incorrectly. Add code to display these images below, the correct labels, the predicted labels, and the confidence scores."
      ]
    },
    {
      "cell_type": "code",
      "metadata": {
        "id": "BPd5NvaV1XEx",
        "colab": {
          "base_uri": "https://localhost:8080/",
          "height": 404
        },
        "outputId": "46586981-8445-4b98-a520-bcc32948424e"
      },
      "source": [
        "import numpy as np\n",
        "rand_num = np.random.randint(0, 10000)\n",
        "print(rand_num)\n",
        "\n",
        "img     = np.array(x_test[rand_num])\n",
        "predict = model_1.predict(img.reshape(1,28,28))\n",
        "number  = np.argmax(predict)\n",
        "\n",
        "plt.imshow(img, cmap=plt.cm.binary)\n",
        "\n",
        "print('----------------Loading-Bip-Boop-------------------')\n",
        "print()\n",
        "print(\"                  This is a \" + str(number)+\"!\")\n",
        "print()\n",
        "print(\"              Probability is \" + str(round(np.max(predict*100), 2))+\"%!!!\")\n",
        "print()"
      ],
      "execution_count": null,
      "outputs": [
        {
          "output_type": "stream",
          "name": "stdout",
          "text": [
            "8672\n",
            "1/1 [==============================] - 0s 66ms/step\n",
            "----------------Loading-Bip-Boop-------------------\n",
            "\n",
            "                  This is a 1!\n",
            "\n",
            "              Probability is 99.99%!!!\n",
            "\n"
          ]
        },
        {
          "output_type": "display_data",
          "data": {
            "text/plain": [
              "<Figure size 432x288 with 1 Axes>"
            ],
            "image/png": "[encoded data removed]"
          },
          "metadata": {
            "needs_background": "light"
          }
        }
      ]
    },
    {
      "cell_type": "markdown",
      "metadata": {
        "id": "ca0nFGJdv3H2"
      },
      "source": [
        "## Part 2: Subclassed models\n",
        "\n",
        "In this part of the assignment, you'll work with the Keras Subclassing API. Instead of using a built-in method (```model.fit```) you will train models using a GradientTape.\n",
        "\n",
        "Here are a few code examples that will help you with this part of the assignment:\n",
        "\n",
        "* [Get started for experts](https://www.tensorflow.org/tutorials/quickstart/advanced)\n",
        "* [Eager execution](https://www.tensorflow.org/guide/eager)\n",
        "* [Keras overview](https://www.tensorflow.org/guide/keras/overview)\n",
        "* [Writing custom models](https://www.tensorflow.org/guide/keras/custom_layers_and_models)"
      ]
    },
    {
      "cell_type": "markdown",
      "metadata": {
        "id": "xB6r75B5teHv"
      },
      "source": [
        "### Download and prepare a dataset\n",
        "This is similar to the above, except now we'll use ```tf.data``` to batch and shuffle the data, instead of the utilities baked into ```model.fit```. It's not necessary for this assignment, but if you wish, you can learn how to use tf.data [here](https://www.tensorflow.org/guide/data)."
      ]
    },
    {
      "cell_type": "code",
      "metadata": {
        "id": "kYbkeJJqtm0h"
      },
      "source": [
        "# Download a dataset\n",
        "(x_train, y_train), (x_test, y_test) = tf.keras.datasets.mnist.load_data()\n",
        "\n",
        "# Batch and shuffle the data\n",
        "train_ds = tf.data.Dataset.from_tensor_slices(\n",
        "    (x_train.astype('float32') / 255, y_train)).shuffle(1024).batch(32)\n",
        "\n",
        "test_ds = tf.data.Dataset.from_tensor_slices(\n",
        "    (x_test.astype('float32') / 255, y_test)).batch(32)"
      ],
      "execution_count": null,
      "outputs": []
    },
    {
      "cell_type": "code",
      "metadata": {
        "id": "_JlSs-3qvCgi",
        "colab": {
          "base_uri": "https://localhost:8080/",
          "height": 282
        },
        "outputId": "1ed10eda-518b-4c52-9e52-5fea046dddf5"
      },
      "source": [
        "# A quick example of iterating over a dataset object\n",
        "for image, label in train_ds.take(1):\n",
        "  plt.imshow(image[0], plt.get_cmap(plt.cm.binary))\n",
        "  print(label[0])"
      ],
      "execution_count": null,
      "outputs": [
        {
          "output_type": "stream",
          "name": "stdout",
          "text": [
            "tf.Tensor(1, shape=(), dtype=uint8)\n"
          ]
        },
        {
          "output_type": "display_data",
          "data": {
            "text/plain": [
              "<Figure size 432x288 with 1 Axes>"
            ],
            "image/png": "[encoded data removed]"
          },
          "metadata": {
            "needs_background": "light"
          }
        }
      ]
    },
    {
      "cell_type": "markdown",
      "metadata": {
        "id": "0Nmw1h6stTg5"
      },
      "source": [
        "### Define and train a linear model"
      ]
    },
    {
      "cell_type": "code",
      "metadata": {
        "id": "BWGJoufMtbHA"
      },
      "source": [
        "class MyLinearModel(Model):\n",
        "  def __init__(self):\n",
        "    super(MyLinearModel, self).__init__()\n",
        "    self.flatten = Flatten()\n",
        "    self.d1 = Dense(128, activation='relu', name='relu1')\n",
        "    self.d2 = Dense(784, activation='relu', name='relu2')\n",
        "    self.d4 = Dense(10, activation='softmax', name=\"dense1\")\n",
        "\n",
        "  def call(self, x):\n",
        "    x = self.flatten(x)\n",
        "    x = self.d1(x)\n",
        "    x = self.d2(x)\n",
        "    return self.d4(x)"
      ],
      "execution_count": null,
      "outputs": []
    },
    {
      "cell_type": "code",
      "metadata": {
        "id": "35tIz37EttdP",
        "colab": {
          "base_uri": "https://localhost:8080/"
        },
        "outputId": "aa8fb64b-a884-42ad-b4e9-8d84d4693d11"
      },
      "source": [
        "model = MyLinearModel()\n",
        "\n",
        "loss_fn = tf.keras.losses.SparseCategoricalCrossentropy()\n",
        "optimizer = tf.keras.optimizers.SGD()\n",
        "\n",
        "# For each epoch\n",
        "for epoch in range(5):\n",
        "\n",
        "  # For each batch of images and labels\n",
        "  for images, labels in train_ds:\n",
        "\n",
        "    # Open a GradientTape.\n",
        "    with tf.GradientTape() as tape:\n",
        "\n",
        "      # Forward pass\n",
        "      predictions = model(images)\n",
        "\n",
        "      # Calculate loss\n",
        "      loss = loss_fn(labels, predictions)\n",
        "\n",
        "    # Backprop to calculate gradients\n",
        "    gradients = tape.gradient(loss, model.trainable_variables)\n",
        "\n",
        "    # Gradient descent step\n",
        "    optimizer.apply_gradients(zip(gradients, model.trainable_variables))\n",
        "\n",
        "  # Calculate loss on the test data\n",
        "  test_loss = []\n",
        "  for images, labels in test_ds: \n",
        "    predictions = model(images)\n",
        "    loss_on_batch = loss_fn(labels, predictions)\n",
        "    test_loss.append(loss_on_batch)\n",
        "    \n",
        "  print(\"Epoch {}, Test loss: {}\".format(epoch, tf.reduce_mean(test_loss)))"
      ],
      "execution_count": null,
      "outputs": [
        {
          "output_type": "stream",
          "name": "stdout",
          "text": [
            "Epoch 0, Test loss: 0.32742148637771606\n",
            "Epoch 1, Test loss: 0.2690909504890442\n",
            "Epoch 2, Test loss: 0.22988833487033844\n",
            "Epoch 3, Test loss: 0.2067553550004959\n",
            "Epoch 4, Test loss: 0.18541917204856873\n"
          ]
        }
      ]
    },
    {
      "cell_type": "markdown",
      "metadata": {
        "id": "mEO51Mvi1jOT"
      },
      "source": [
        "Note: you may have noticed that the above code runs slowly (it's executing eagerly). Later in this notebook, you will compile your code (to run it in graph mode) using ```@tf.function```. The general workflow is to write your code without using tf.function (as shown above, which makes for easier debugging). Once you've finished debugging your model, you can add ```@tf.function``` for performance if necessary."
      ]
    },
    {
      "cell_type": "markdown",
      "metadata": {
        "id": "dj7Y8JWgwv9Z"
      },
      "source": [
        "### 2a: Visualize the learned weights\n",
        "\n",
        "We can interpret a linear model by looking at the weights of the fully connected layer. Modify the below code to create a plot similar to the one on from lecture 1:\n",
        "\n",
        "![Plot of weights](https://storage.googleapis.com/applied-dl/im/mnist-weights.png)\n",
        "\n",
        "**TODO**\n",
        "\n",
        "Modify the below code to retrieve the learned weights. You can use either the public API of a model ```model.get_layer(name)``` then retrieve the weights from that, or (because our model is defined using the Subclassing API), you can access the dense layer directly ```model.d1```."
      ]
    },
    {
      "cell_type": "code",
      "metadata": {
        "id": "JiQZV03RuWHM",
        "colab": {
          "base_uri": "https://localhost:8080/"
        },
        "outputId": "d3d97561-93fb-4c9a-e503-ec558c10af4b"
      },
      "source": [
        "# There are two ways to retrieve the weights. You can use the public API\n",
        "# (model.get_layer(name).get_weights()), or, you can access the dense layer \n",
        "# directly (model.dl) then find the accessor method, or again, access the\n",
        "# variable directly.\n",
        "\n",
        "# TODO: \n",
        "weights, bias = model.get_layer('dense1').get_weights()\n",
        "print(weights.shape)\n",
        "model.predict(x_test[0].reshape(1,28,28))"
      ],
      "execution_count": null,
      "outputs": [
        {
          "output_type": "stream",
          "name": "stdout",
          "text": [
            "(784, 10)\n",
            "1/1 [==============================] - 0s 84ms/step\n"
          ]
        },
        {
          "output_type": "execute_result",
          "data": {
            "text/plain": [
              "array([[0., 0., 0., 0., 0., 0., 0., 1., 0., 0.]], dtype=float32)"
            ]
          },
          "metadata": {},
          "execution_count": 14
        }
      ]
    },
    {
      "cell_type": "code",
      "metadata": {
        "id": "oz3VV2EiuY7X",
        "colab": {
          "base_uri": "https://localhost:8080/",
          "height": 199
        },
        "outputId": "aaaf6daf-92a4-4774-8458-3807c4bce607"
      },
      "source": [
        "fig, axs = plt.subplots(1,10, figsize=(28,28))\n",
        "for i in range(10):\n",
        "  subplot = axs[i]\n",
        "  subplot.set_title(i)\n",
        "  subplot.axis('off')\n",
        "  # TODO: modify this code to complete the plotting function\n",
        "  i_weights = weights[:,i] # Select the weights for the i'th output\n",
        "  img = i_weights.reshape(28,28) # Reshape the weights into a 28x28 array\n",
        "  subplot.imshow(img, plt.get_cmap('seismic'))\n",
        "plt.show()"
      ],
      "execution_count": null,
      "outputs": [
        {
          "output_type": "display_data",
          "data": {
            "text/plain": [
              "<Figure size 2016x2016 with 10 Axes>"
            ],
            "image/png": "[encoded data removed]"
          },
          "metadata": {
            "needs_background": "light"
          }
        }
      ]
    },
    {
      "cell_type": "markdown",
      "metadata": {
        "id": "HNBCIqzdw2GS"
      },
      "source": [
        "### 2b: Implement a deep neural network\n",
        "\n",
        "**TODO**\n",
        "\n",
        "Modify this code to create a deep neural network. Train your model using the code below, and compare the accuracy to the linear model above. \n",
        "\n",
        "Note: you do not need to modify any sections other than the model definition and the call method. \n",
        "\n",
        "The code below uses compiled versions of the training and evaluation loops (remove the ```@tf.function``` annotations if you need to debug)."
      ]
    },
    {
      "cell_type": "code",
      "metadata": {
        "id": "rxoIfq91xDRZ"
      },
      "source": [
        "class MyDNN(Model):\n",
        "  def __init__(self):\n",
        "    super(MyDNN, self).__init__()\n",
        "    self.flatten = Flatten()\n",
        "    self.d1 = Dense(128, activation='relu', name='relu1')\n",
        "    self.d2 = Dense(784, activation='relu', name='relu2')\n",
        "    self.d3 = Dense(10, activation='softmax')\n",
        "\n",
        "  def call(self, x):\n",
        "    x = self.flatten(x)\n",
        "    x = self.d1(x)\n",
        "    x = self.d2(x)\n",
        "    return self.d3(x)\n",
        "\n",
        "model = MyDNN()"
      ],
      "execution_count": null,
      "outputs": []
    },
    {
      "cell_type": "code",
      "metadata": {
        "id": "hVDDq2orxPBR"
      },
      "source": [
        "loss_object = tf.keras.losses.SparseCategoricalCrossentropy()\n",
        "optimizer = tf.keras.optimizers.Adam()"
      ],
      "execution_count": null,
      "outputs": []
    },
    {
      "cell_type": "markdown",
      "metadata": {
        "id": "WNC0K6JPxy-g"
      },
      "source": [
        "These are helper functions we'll use to record loss and accuracy while your model is trained."
      ]
    },
    {
      "cell_type": "code",
      "metadata": {
        "id": "duYKrACkxRHw"
      },
      "source": [
        "train_loss = tf.keras.metrics.Mean(name='train_loss')\n",
        "train_accuracy = tf.keras.metrics.SparseCategoricalAccuracy(name='train_accuracy')\n",
        "\n",
        "test_loss = tf.keras.metrics.Mean(name='test_loss')\n",
        "test_accuracy = tf.keras.metrics.SparseCategoricalAccuracy(name='test_accuracy')"
      ],
      "execution_count": null,
      "outputs": []
    },
    {
      "cell_type": "markdown",
      "metadata": {
        "id": "C_oUQki5x0lD"
      },
      "source": [
        "This method trains the model on a batch of data."
      ]
    },
    {
      "cell_type": "code",
      "metadata": {
        "id": "yTQAnrOAxUAu"
      },
      "source": [
        "@tf.function\n",
        "def train_step(images, labels):\n",
        "  with tf.GradientTape() as tape:\n",
        "    predictions = model(images)\n",
        "    loss = loss_object(labels, predictions)\n",
        "  gradients = tape.gradient(loss, model.trainable_variables)\n",
        "  optimizer.apply_gradients(zip(gradients, model.trainable_variables))\n",
        "\n",
        "  train_loss(loss)\n",
        "  train_accuracy(labels, predictions)"
      ],
      "execution_count": null,
      "outputs": []
    },
    {
      "cell_type": "markdown",
      "metadata": {
        "id": "-lUJFkfux44o"
      },
      "source": [
        "This method evaluates the model on a batch of data."
      ]
    },
    {
      "cell_type": "code",
      "metadata": {
        "id": "BTMp9PwZxV5h"
      },
      "source": [
        "@tf.function\n",
        "def test_step(images, labels):\n",
        "  predictions = model(images)\n",
        "  t_loss = loss_object(labels, predictions)\n",
        "\n",
        "  test_loss(t_loss)\n",
        "  test_accuracy(labels, predictions)"
      ],
      "execution_count": null,
      "outputs": []
    },
    {
      "cell_type": "markdown",
      "metadata": {
        "id": "AR0_bNd-x6OE"
      },
      "source": [
        "Training and evaluation loop."
      ]
    },
    {
      "cell_type": "code",
      "metadata": {
        "id": "enHqlaCfxXq3",
        "colab": {
          "base_uri": "https://localhost:8080/"
        },
        "outputId": "f43a40dd-e72e-42fd-c777-9eb16016705f"
      },
      "source": [
        "EPOCHS = 5\n",
        "\n",
        "for epoch in range(EPOCHS):\n",
        "  for images, labels in train_ds:\n",
        "    train_step(images, labels)\n",
        "\n",
        "  for test_images, test_labels in test_ds:\n",
        "    test_step(test_images, test_labels)\n",
        "\n",
        "  template = 'Epoch {}, Loss: {}, Accuracy: {}, Test Loss: {}, Test Accuracy: {}'\n",
        "  print(template.format(epoch+1,\n",
        "                        train_loss.result(),\n",
        "                        train_accuracy.result()*100,\n",
        "                        test_loss.result(),\n",
        "                        test_accuracy.result()*100))\n",
        "\n",
        "  # Reset the metrics for the next epoch\n",
        "  train_loss.reset_states()\n",
        "  train_accuracy.reset_states()\n",
        "  \n",
        "  test_loss.reset_states()\n",
        "  test_accuracy.reset_states()"
      ],
      "execution_count": null,
      "outputs": [
        {
          "output_type": "stream",
          "name": "stdout",
          "text": [
            "Epoch 1, Loss: 0.20717689394950867, Accuracy: 93.71833038330078, Test Loss: 0.12042561918497086, Test Accuracy: 96.22000122070312\n",
            "Epoch 2, Loss: 0.08976965397596359, Accuracy: 97.1866683959961, Test Loss: 0.10892609506845474, Test Accuracy: 96.7300033569336\n",
            "Epoch 3, Loss: 0.06295712292194366, Accuracy: 97.96166229248047, Test Loss: 0.11260764300823212, Test Accuracy: 96.83999633789062\n",
            "Epoch 4, Loss: 0.047228824347257614, Accuracy: 98.49333190917969, Test Loss: 0.10345416516065598, Test Accuracy: 97.29999542236328\n",
            "Epoch 5, Loss: 0.036838043481111526, Accuracy: 98.84166717529297, Test Loss: 0.10227895528078079, Test Accuracy: 97.50999450683594\n"
          ]
        }
      ]
    },
    {
      "cell_type": "markdown",
      "metadata": {
        "id": "ZxjIFiyBPorB"
      },
      "source": [
        "### 2c: Provide your own implementation of softmax and use it to train a model\n",
        "\n",
        "In your linear model above, the starter code looked similar to: \n",
        "\n",
        "\n",
        "```\n",
        "class LinearModel(Model):\n",
        "  def __init__(self):\n",
        "    super(LinearModel, self).__init__()\n",
        "    self.flatten = Flatten()\n",
        "    self.d1 = Dense(10, activation='softmax')\n",
        "\n",
        "  def call(self, x):\n",
        "    x = self.flatten(x)\n",
        "    return self.d1(x)\n",
        "``` \n",
        "\n",
        "Now, create a function:\n",
        "\n",
        "\n",
        "```\n",
        "def my_softmax(logits):\n",
        "  # ...\n",
        "```\n",
        "\n",
        "and use it in your model as follows:\n",
        "\n",
        "\n",
        "```\n",
        "class LinearModel(Model):\n",
        "  def __init__(self):\n",
        "    super(LinearModel, self).__init__()\n",
        "    self.flatten = Flatten()\n",
        "    self.d1 = Dense(10)\n",
        "\n",
        "  def call(self, x):\n",
        "    x = self.flatten(x)\n",
        "    x = self.d1(x)\n",
        "    return my_softmax(x)\n",
        "``` \n",
        "\n",
        "Notice, we've removed the built-in activation method on the Dense layer, and added our own to the call method.\n",
        "\n",
        "Tip: You can implement softmax first using NumPy, if you like, the gradually convert your code to use TensorFlow ops (which begin with tf.\\* instead of np.\\*).\n",
        "\n",
        "Notes: \n",
        "\n",
        "- Your softmax implementation should be numerically stable. \n",
        "- You will need to use tf.* ops in order to use your code to train a model (TF cannot backprop through NumPy operations)."
      ]
    },
    {
      "cell_type": "code",
      "metadata": {
        "id": "SiLj-uFrRAn-"
      },
      "source": [
        "# TODO: your code here\n",
        "\n",
        "def my_softmax(x):  \n",
        "  sum = np.sum(x)\n",
        "  sf = tf.TensorArray(tf.float32, size=0, dynamic_size=True, clear_after_read=False)\n",
        "  for i in range(len(x)):\n",
        "    sf = sf.write(i,(x[i]/sum))\n",
        "  return sf\n",
        "\n",
        "class MyModel(Model):\n",
        "  def __init__(self):\n",
        "    super(MyModel, self).__init__()\n",
        "    self.flatten = Flatten()\n",
        "    self.d1 = Dense(10,name='d1')\n",
        "\n",
        "  def call(self, x):\n",
        "    x = self.flatten(x)\n",
        "    x = self.d1(x)\n",
        "    return my_softmax(x)\n",
        "  \n",
        "model = MyModel\n",
        "\n",
        "# TODO\n",
        "# Add code to train this model\n",
        "# When it's trained, the accuracy should be similar to the linear\n",
        "# model from part one (but not identical, the weights are initialized randomly)"
      ],
      "execution_count": null,
      "outputs": []
    },
    {
      "cell_type": "code",
      "source": [
        "EPOCHS = 2\n",
        "\n",
        "for epoch in range(EPOCHS):\n",
        "  for images, labels in train_ds:\n",
        "    train_step(images, labels)\n",
        "\n",
        "  for test_images, test_labels in test_ds:\n",
        "    test_step(test_images, test_labels)\n",
        "\n",
        "  template = 'Epoch {}, Loss: {}, Accuracy: {}, Test Loss: {}, Test Accuracy: {}'\n",
        "  print(template.format(epoch+1,\n",
        "                        train_loss.result(),\n",
        "                        train_accuracy.result()*100,\n",
        "                        test_loss.result(),\n",
        "                        test_accuracy.result()*100))\n",
        "\n",
        "  # Reset the metrics for the next epoch\n",
        "  train_loss.reset_states()\n",
        "  train_accuracy.reset_states()\n",
        "  \n",
        "  test_loss.reset_states()\n",
        "  test_accuracy.reset_states()"
      ],
      "metadata": {
        "colab": {
          "base_uri": "https://localhost:8080/"
        },
        "id": "gbNwGI0z5YXN",
        "outputId": "c281adb6-365d-4a64-b1d9-525bad3b3145"
      },
      "execution_count": null,
      "outputs": [
        {
          "output_type": "stream",
          "name": "stdout",
          "text": [
            "Epoch 1, Loss: 0.013897338882088661, Accuracy: 99.57333374023438, Test Loss: 0.12014830112457275, Test Accuracy: 98.1199951171875\n",
            "Epoch 2, Loss: 0.013593618758022785, Accuracy: 99.57167053222656, Test Loss: 0.15845243632793427, Test Accuracy: 97.68999481201172\n"
          ]
        }
      ]
    },
    {
      "cell_type": "code",
      "source": [],
      "metadata": {
        "id": "ee5WAh7N7AG8"
      },
      "execution_count": null,
      "outputs": []
    }
  ]
}