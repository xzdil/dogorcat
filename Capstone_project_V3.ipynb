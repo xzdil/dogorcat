{
  "nbformat": 4,
  "nbformat_minor": 0,
  "metadata": {
    "colab": {
      "provenance": [],
      "mount_file_id": "1gI8zoGpArg4HfYKMoaOAsEmSjw6TBhwK",
      "authorship_tag": "ABX9TyMtqIpbyn0JIMHqg1vnuY12",
      "include_colab_link": true
    },
    "kernelspec": {
      "name": "python3",
      "display_name": "Python 3"
    },
    "language_info": {
      "name": "python"
    },
    "accelerator": "GPU",
    "gpuClass": "standard"
  },
  "cells": [
    {
      "cell_type": "markdown",
      "metadata": {
        "id": "view-in-github",
        "colab_type": "text"
      },
      "source": [
        "<a href=\"https://colab.research.google.com/github/xzdil/googlecollabprojects/blob/main/Capstone_project_V3.ipynb\" target=\"_parent\"><img src=\"https://colab.research.google.com/assets/colab-badge.svg\" alt=\"Open In Colab\"/></a>"
      ]
    },
    {
      "cell_type": "markdown",
      "source": [
        "# Adil Rakhimzhanov "
      ],
      "metadata": {
        "id": "TJFw4586LTGC"
      }
    },
    {
      "cell_type": "markdown",
      "source": [
        "## Emotion classification in text"
      ],
      "metadata": {
        "id": "ZI284hVEnrIy"
      }
    },
    {
      "cell_type": "code",
      "source": [
        "import pandas as pd\n",
        "import numpy as np\n",
        "import matplotlib.pyplot as plt\n",
        "import tensorflow as tf\n"
      ],
      "metadata": {
        "id": "KamQnyYln0QE"
      },
      "execution_count": null,
      "outputs": []
    },
    {
      "cell_type": "markdown",
      "source": [
        "### Import dataset from kaggle"
      ],
      "metadata": {
        "id": "RtrA21bkkjS9"
      }
    },
    {
      "cell_type": "code",
      "source": [
        "import json\n",
        "\n",
        "# Замените <PASTE API KEY HERE> на скопированный текст из файла kaggle.json\n",
        "api_key = {\"username\":\"adilrakhimzhanov\",\"key\":\"3bf1059dcce07a79705c19b85f3bbfb8\"}\n",
        "\n",
        "# Сохраните API-ключ в файл\n",
        "with open('/root/.kaggle/kaggle.json', 'w') as f:\n",
        "    json.dump(\n",
        "      api_key, f)"
      ],
      "metadata": {
        "id": "nt9NSeHpN2lS"
      },
      "execution_count": null,
      "outputs": []
    },
    {
      "cell_type": "markdown",
      "source": [
        "### Next steps"
      ],
      "metadata": {
        "id": "KjLW9F-skqTH"
      }
    },
    {
      "cell_type": "code",
      "source": [
        "!kaggle datasets download -d parulpandey/emotion-dataset"
      ],
      "metadata": {
        "colab": {
          "base_uri": "https://localhost:8080/"
        },
        "id": "16QolDBlMN9p",
        "outputId": "998a06be-7e70-45fe-dec9-4904a4d329a7"
      },
      "execution_count": null,
      "outputs": [
        {
          "output_type": "stream",
          "name": "stdout",
          "text": [
            "Warning: Your Kaggle API key is readable by other users on this system! To fix this, you can run 'chmod 600 /root/.kaggle/kaggle.json'\n",
            "Downloading emotion-dataset.zip to /content\n",
            "100% 715k/715k [00:00<00:00, 871kB/s]\n",
            "100% 715k/715k [00:00<00:00, 871kB/s]\n"
          ]
        }
      ]
    },
    {
      "cell_type": "code",
      "source": [
        "import zipfile\n",
        "\n",
        "with zipfile.ZipFile(\"emotion-dataset.zip\", \"r\") as zip_ref:\n",
        "    zip_ref.extractall(\".\")"
      ],
      "metadata": {
        "id": "Bfav5gvMMRtL"
      },
      "execution_count": null,
      "outputs": []
    },
    {
      "cell_type": "code",
      "source": [
        "train_df = pd.read_csv(\"training.csv\")\n",
        "test_df  = pd.read_csv(\"test.csv\")\n",
        "valid_df = pd.read_csv(\"validation.csv\")"
      ],
      "metadata": {
        "id": "UlyM-iw-n2sE"
      },
      "execution_count": null,
      "outputs": []
    },
    {
      "cell_type": "code",
      "source": [
        "train_df.head()"
      ],
      "metadata": {
        "colab": {
          "base_uri": "https://localhost:8080/",
          "height": 206
        },
        "id": "4wLVZ8EYoIBK",
        "outputId": "29eeee36-d5ea-484b-9f35-9a276e02b8c5"
      },
      "execution_count": null,
      "outputs": [
        {
          "output_type": "execute_result",
          "data": {
            "text/plain": [
              "                                                text  label\n",
              "0                            i didnt feel humiliated      0\n",
              "1  i can go from feeling so hopeless to so damned...      0\n",
              "2   im grabbing a minute to post i feel greedy wrong      3\n",
              "3  i am ever feeling nostalgic about the fireplac...      2\n",
              "4                               i am feeling grouchy      3"
            ],
            "text/html": [
              "\n",
              "  <div id=\"df-80df3f35-8be4-4db3-b957-ed3796737e7c\">\n",
              "    <div class=\"colab-df-container\">\n",
              "      <div>\n",
              "<style scoped>\n",
              "    .dataframe tbody tr th:only-of-type {\n",
              "        vertical-align: middle;\n",
              "    }\n",
              "\n",
              "    .dataframe tbody tr th {\n",
              "        vertical-align: top;\n",
              "    }\n",
              "\n",
              "    .dataframe thead th {\n",
              "        text-align: right;\n",
              "    }\n",
              "</style>\n",
              "<table border=\"1\" class=\"dataframe\">\n",
              "  <thead>\n",
              "    <tr style=\"text-align: right;\">\n",
              "      <th></th>\n",
              "      <th>text</th>\n",
              "      <th>label</th>\n",
              "    </tr>\n",
              "  </thead>\n",
              "  <tbody>\n",
              "    <tr>\n",
              "      <th>0</th>\n",
              "      <td>i didnt feel humiliated</td>\n",
              "      <td>0</td>\n",
              "    </tr>\n",
              "    <tr>\n",
              "      <th>1</th>\n",
              "      <td>i can go from feeling so hopeless to so damned...</td>\n",
              "      <td>0</td>\n",
              "    </tr>\n",
              "    <tr>\n",
              "      <th>2</th>\n",
              "      <td>im grabbing a minute to post i feel greedy wrong</td>\n",
              "      <td>3</td>\n",
              "    </tr>\n",
              "    <tr>\n",
              "      <th>3</th>\n",
              "      <td>i am ever feeling nostalgic about the fireplac...</td>\n",
              "      <td>2</td>\n",
              "    </tr>\n",
              "    <tr>\n",
              "      <th>4</th>\n",
              "      <td>i am feeling grouchy</td>\n",
              "      <td>3</td>\n",
              "    </tr>\n",
              "  </tbody>\n",
              "</table>\n",
              "</div>\n",
              "      <button class=\"colab-df-convert\" onclick=\"convertToInteractive('df-80df3f35-8be4-4db3-b957-ed3796737e7c')\"\n",
              "              title=\"Convert this dataframe to an interactive table.\"\n",
              "              style=\"display:none;\">\n",
              "        \n",
              "  <svg xmlns=\"http://www.w3.org/2000/svg\" height=\"24px\"viewBox=\"0 0 24 24\"\n",
              "       width=\"24px\">\n",
              "    <path d=\"M0 0h24v24H0V0z\" fill=\"none\"/>\n",
              "    <path d=\"M18.56 5.44l.94 2.06.94-2.06 2.06-.94-2.06-.94-.94-2.06-.94 2.06-2.06.94zm-11 1L8.5 8.5l.94-2.06 2.06-.94-2.06-.94L8.5 2.5l-.94 2.06-2.06.94zm10 10l.94 2.06.94-2.06 2.06-.94-2.06-.94-.94-2.06-.94 2.06-2.06.94z\"/><path d=\"M17.41 7.96l-1.37-1.37c-.4-.4-.92-.59-1.43-.59-.52 0-1.04.2-1.43.59L10.3 9.45l-7.72 7.72c-.78.78-.78 2.05 0 2.83L4 21.41c.39.39.9.59 1.41.59.51 0 1.02-.2 1.41-.59l7.78-7.78 2.81-2.81c.8-.78.8-2.07 0-2.86zM5.41 20L4 18.59l7.72-7.72 1.47 1.35L5.41 20z\"/>\n",
              "  </svg>\n",
              "      </button>\n",
              "      \n",
              "  <style>\n",
              "    .colab-df-container {\n",
              "      display:flex;\n",
              "      flex-wrap:wrap;\n",
              "      gap: 12px;\n",
              "    }\n",
              "\n",
              "    .colab-df-convert {\n",
              "      background-color: #E8F0FE;\n",
              "      border: none;\n",
              "      border-radius: 50%;\n",
              "      cursor: pointer;\n",
              "      display: none;\n",
              "      fill: #1967D2;\n",
              "      height: 32px;\n",
              "      padding: 0 0 0 0;\n",
              "      width: 32px;\n",
              "    }\n",
              "\n",
              "    .colab-df-convert:hover {\n",
              "      background-color: #E2EBFA;\n",
              "      box-shadow: 0px 1px 2px rgba(60, 64, 67, 0.3), 0px 1px 3px 1px rgba(60, 64, 67, 0.15);\n",
              "      fill: #174EA6;\n",
              "    }\n",
              "\n",
              "    [theme=dark] .colab-df-convert {\n",
              "      background-color: #3B4455;\n",
              "      fill: #D2E3FC;\n",
              "    }\n",
              "\n",
              "    [theme=dark] .colab-df-convert:hover {\n",
              "      background-color: #434B5C;\n",
              "      box-shadow: 0px 1px 3px 1px rgba(0, 0, 0, 0.15);\n",
              "      filter: drop-shadow(0px 1px 2px rgba(0, 0, 0, 0.3));\n",
              "      fill: #FFFFFF;\n",
              "    }\n",
              "  </style>\n",
              "\n",
              "      <script>\n",
              "        const buttonEl =\n",
              "          document.querySelector('#df-80df3f35-8be4-4db3-b957-ed3796737e7c button.colab-df-convert');\n",
              "        buttonEl.style.display =\n",
              "          google.colab.kernel.accessAllowed ? 'block' : 'none';\n",
              "\n",
              "        async function convertToInteractive(key) {\n",
              "          const element = document.querySelector('#df-80df3f35-8be4-4db3-b957-ed3796737e7c');\n",
              "          const dataTable =\n",
              "            await google.colab.kernel.invokeFunction('convertToInteractive',\n",
              "                                                     [key], {});\n",
              "          if (!dataTable) return;\n",
              "\n",
              "          const docLinkHtml = 'Like what you see? Visit the ' +\n",
              "            '<a target=\"_blank\" href=https://colab.research.google.com/notebooks/data_table.ipynb>data table notebook</a>'\n",
              "            + ' to learn more about interactive tables.';\n",
              "          element.innerHTML = '';\n",
              "          dataTable['output_type'] = 'display_data';\n",
              "          await google.colab.output.renderOutput(dataTable, element);\n",
              "          const docLink = document.createElement('div');\n",
              "          docLink.innerHTML = docLinkHtml;\n",
              "          element.appendChild(docLink);\n",
              "        }\n",
              "      </script>\n",
              "    </div>\n",
              "  </div>\n",
              "  "
            ]
          },
          "metadata": {},
          "execution_count": 9
        }
      ]
    },
    {
      "cell_type": "code",
      "source": [
        "train_df.label.unique()"
      ],
      "metadata": {
        "colab": {
          "base_uri": "https://localhost:8080/"
        },
        "id": "1JJtaROhsUsb",
        "outputId": "af15f278-a7d1-4ba4-df48-35ee9e9aca72"
      },
      "execution_count": null,
      "outputs": [
        {
          "output_type": "execute_result",
          "data": {
            "text/plain": [
              "array([0, 3, 2, 5, 4, 1])"
            ]
          },
          "metadata": {},
          "execution_count": 10
        }
      ]
    },
    {
      "cell_type": "code",
      "source": [
        "tags = [\"sadness\", \"joy\", \"love\", \"anger\", \"fear\",\"surprise\"]"
      ],
      "metadata": {
        "id": "3G-aLJGIoRm6"
      },
      "execution_count": null,
      "outputs": []
    },
    {
      "cell_type": "code",
      "source": [
        "plt.hist(train_df.label, bins=40)\n",
        "plt.title(\"Points histogram\")\n",
        "plt.ylabel(\"N\")\n",
        "plt.xlabel(\"Points\")\n",
        "plt.xticks([0, 1, 2, 3, 4,5], tags)\n",
        "plt.tick_params(axis='x', rotation=90)\n",
        "plt.show()"
      ],
      "metadata": {
        "colab": {
          "base_uri": "https://localhost:8080/",
          "height": 514
        },
        "id": "c9-c2mA_oidT",
        "outputId": "1ccb35ef-2b6d-4f5d-9f61-8d207e538ff1"
      },
      "execution_count": null,
      "outputs": [
        {
          "output_type": "display_data",
          "data": {
            "text/plain": [
              "<Figure size 640x480 with 1 Axes>"
            ],
            "image/png": "[encoded data removed]"
          },
          "metadata": {}
        }
      ]
    },
    {
      "cell_type": "code",
      "source": [
        "X_train = train_df['text']\n",
        "y_train = train_df['label']\n",
        "\n",
        "X_test = test_df['text']\n",
        "y_test = test_df['label']\n",
        "\n",
        "X_val = valid_df['text']\n",
        "y_val = valid_df['label']"
      ],
      "metadata": {
        "id": "me1Qopfppavx"
      },
      "execution_count": null,
      "outputs": []
    },
    {
      "cell_type": "code",
      "source": [],
      "metadata": {
        "id": "yKzMjwf3psMD"
      },
      "execution_count": null,
      "outputs": []
    },
    {
      "cell_type": "code",
      "source": [
        "# Создание экземпляра слоя TextVectorization\n",
        "vectorizer = tf.keras.layers.TextVectorization(max_tokens=15000, output_mode='int',output_sequence_length=33)\n",
        "\n",
        "# Преобразование данных в одномерный тензор\n",
        "x_train_flat = tf.reshape(X_train, [-1])\n",
        "x_val_flat = tf.reshape(X_val, [-1])"
      ],
      "metadata": {
        "id": "47Jq-E8FpsZY"
      },
      "execution_count": null,
      "outputs": []
    },
    {
      "cell_type": "code",
      "source": [],
      "metadata": {
        "id": "Fg95PPm0lUwX"
      },
      "execution_count": null,
      "outputs": []
    },
    {
      "cell_type": "code",
      "source": [],
      "metadata": {
        "id": "Z5kuMEkpLGio"
      },
      "execution_count": null,
      "outputs": []
    },
    {
      "cell_type": "code",
      "source": [],
      "metadata": {
        "id": "-nhCEnsDIk9q"
      },
      "execution_count": null,
      "outputs": []
    },
    {
      "cell_type": "code",
      "source": [],
      "metadata": {
        "id": "AFwDAW9WIw31"
      },
      "execution_count": null,
      "outputs": []
    },
    {
      "cell_type": "code",
      "source": [
        "# Применение слоя TextVectorization к тренировочным данным и получение словаря\n",
        "vectorizer.adapt(x_train_flat)\n",
        "vocab = vectorizer.get_vocabulary()\n",
        "\n",
        "\n",
        "# Преобразование тренировочных и тестовых данных в трехмерный формат\n",
        "x_train = vectorizer(tf.reshape(x_train_flat, [-1, 1]))\n",
        "x_val = vectorizer(tf.reshape(x_val_flat, [-1, 1]))"
      ],
      "metadata": {
        "id": "DVgRw-yXqANy"
      },
      "execution_count": null,
      "outputs": []
    },
    {
      "cell_type": "code",
      "source": [
        "import json\n",
        "\n",
        "# Сохраните словарь в файл, используя json\n",
        "with open('vocab.json', 'w') as f:\n",
        "    json.dump(vocab, f)\n"
      ],
      "metadata": {
        "id": "mxOcypCVmJ17"
      },
      "execution_count": null,
      "outputs": []
    },
    {
      "cell_type": "code",
      "source": [],
      "metadata": {
        "id": "2v8v5e9yTypB"
      },
      "execution_count": null,
      "outputs": []
    },
    {
      "cell_type": "code",
      "source": [
        "tf.keras.utils.to_categorical(y_train, num_classes=len(tags))"
      ],
      "metadata": {
        "colab": {
          "base_uri": "https://localhost:8080/"
        },
        "id": "c_fKpuJyqvC5",
        "outputId": "ee3818ff-e301-4389-e6f4-d7bbcf11da2d"
      },
      "execution_count": null,
      "outputs": [
        {
          "output_type": "execute_result",
          "data": {
            "text/plain": [
              "array([[1., 0., 0., 0., 0., 0.],\n",
              "       [1., 0., 0., 0., 0., 0.],\n",
              "       [0., 0., 0., 1., 0., 0.],\n",
              "       ...,\n",
              "       [0., 1., 0., 0., 0., 0.],\n",
              "       [0., 0., 0., 1., 0., 0.],\n",
              "       [1., 0., 0., 0., 0., 0.]], dtype=float32)"
            ]
          },
          "metadata": {},
          "execution_count": 17
        }
      ]
    },
    {
      "cell_type": "code",
      "source": [
        "# from tensorflow.keras.layers import LayerNormalization\n",
        "# normalization_layer = LayerNormalization(epsilon=0.1, center=True, scale=True,)\n",
        "# x_train = normalization_layer(x_train)\n",
        "# x_val = normalization_layer(x_val)"
      ],
      "metadata": {
        "id": "SFGYOLItqGq8"
      },
      "execution_count": null,
      "outputs": []
    },
    {
      "cell_type": "code",
      "source": [
        "len(vocab)"
      ],
      "metadata": {
        "colab": {
          "base_uri": "https://localhost:8080/"
        },
        "id": "iYeu4bIeNwJi",
        "outputId": "6150cd11-ce55-4676-ada3-0a0315e459bd"
      },
      "execution_count": null,
      "outputs": [
        {
          "output_type": "execute_result",
          "data": {
            "text/plain": [
              "15000"
            ]
          },
          "metadata": {},
          "execution_count": 19
        }
      ]
    },
    {
      "cell_type": "code",
      "source": [
        "# Определение модели\n",
        "model = tf.keras.Sequential([\n",
        "    tf.keras.layers.Embedding(input_dim=len(vocab), output_dim=32, input_length=33),\n",
        "    tf.keras.layers.LSTM(units=64),\n",
        "    tf.keras.layers.Dense(128, activation='relu'),\n",
        "    tf.keras.layers.Dense(128, activation='relu'),\n",
        "    tf.keras.layers.Dropout(0.2),\n",
        "    tf.keras.layers.Dense(len(tags), activation='softmax')\n",
        "])\n",
        "\n"
      ],
      "metadata": {
        "id": "BSzuoc-pqLhw"
      },
      "execution_count": null,
      "outputs": []
    },
    {
      "cell_type": "code",
      "source": [
        "model.summary()"
      ],
      "metadata": {
        "colab": {
          "base_uri": "https://localhost:8080/"
        },
        "id": "IOqeiVL-5T7m",
        "outputId": "8bede1d7-2c17-4bb9-fdb9-9c31848b1a1e"
      },
      "execution_count": null,
      "outputs": [
        {
          "output_type": "stream",
          "name": "stdout",
          "text": [
            "Model: \"sequential_3\"\n",
            "_________________________________________________________________\n",
            " Layer (type)                Output Shape              Param #   \n",
            "=================================================================\n",
            " embedding_3 (Embedding)     (None, 33, 32)            480000    \n",
            "                                                                 \n",
            " lstm_3 (LSTM)               (None, 64)                24832     \n",
            "                                                                 \n",
            " dense_8 (Dense)             (None, 128)               8320      \n",
            "                                                                 \n",
            " dense_9 (Dense)             (None, 128)               16512     \n",
            "                                                                 \n",
            " dropout_3 (Dropout)         (None, 128)               0         \n",
            "                                                                 \n",
            " dense_10 (Dense)            (None, 6)                 774       \n",
            "                                                                 \n",
            "=================================================================\n",
            "Total params: 530,438\n",
            "Trainable params: 530,438\n",
            "Non-trainable params: 0\n",
            "_________________________________________________________________\n"
          ]
        }
      ]
    },
    {
      "cell_type": "code",
      "source": [
        "# Компиляция модели\n",
        "model.compile(optimizer='adam',\n",
        "              loss='categorical_crossentropy',\n",
        "              metrics=['accuracy'])\n"
      ],
      "metadata": {
        "id": "mIG7lKo0qTTd"
      },
      "execution_count": null,
      "outputs": []
    },
    {
      "cell_type": "code",
      "source": [
        "\n",
        "# Обучение модели\n",
        "history = model.fit(x_train,\n",
        "          tf.keras.utils.to_categorical(y_train, num_classes=len(tags)),\n",
        "          epochs=45,\n",
        "          steps_per_epoch=50,\n",
        "          batch_size=32,\n",
        "          validation_data=(x_val, tf.keras.utils.to_categorical(y_val, num_classes=len(tags))))\n"
      ],
      "metadata": {
        "id": "6wzyROrRqVLz",
        "colab": {
          "base_uri": "https://localhost:8080/"
        },
        "outputId": "1e153a22-62f7-46f0-cab3-20fbe914a210"
      },
      "execution_count": null,
      "outputs": [
        {
          "output_type": "stream",
          "name": "stdout",
          "text": [
            "Epoch 1/45\n",
            "50/50 [==============================] - 11s 165ms/step - loss: 1.6239 - accuracy: 0.3450 - val_loss: 1.5932 - val_accuracy: 0.3520\n",
            "Epoch 2/45\n",
            "50/50 [==============================] - 3s 67ms/step - loss: 1.5719 - accuracy: 0.3181 - val_loss: 1.5879 - val_accuracy: 0.3520\n",
            "Epoch 3/45\n",
            "50/50 [==============================] - 2s 42ms/step - loss: 1.5834 - accuracy: 0.3269 - val_loss: 1.5797 - val_accuracy: 0.3520\n",
            "Epoch 4/45\n",
            "50/50 [==============================] - 2s 37ms/step - loss: 1.5786 - accuracy: 0.3306 - val_loss: 1.5875 - val_accuracy: 0.2725\n",
            "Epoch 5/45\n",
            "50/50 [==============================] - 1s 29ms/step - loss: 1.5773 - accuracy: 0.3350 - val_loss: 1.5643 - val_accuracy: 0.3520\n",
            "Epoch 6/45\n",
            "50/50 [==============================] - 2s 31ms/step - loss: 1.4176 - accuracy: 0.3638 - val_loss: 1.5000 - val_accuracy: 0.3175\n",
            "Epoch 7/45\n",
            "50/50 [==============================] - 1s 29ms/step - loss: 1.3339 - accuracy: 0.3800 - val_loss: 1.3531 - val_accuracy: 0.4250\n",
            "Epoch 8/45\n",
            "50/50 [==============================] - 1s 30ms/step - loss: 1.2841 - accuracy: 0.3881 - val_loss: 1.2594 - val_accuracy: 0.4405\n",
            "Epoch 9/45\n",
            "50/50 [==============================] - 1s 14ms/step - loss: 1.2094 - accuracy: 0.4106 - val_loss: 1.2043 - val_accuracy: 0.4480\n",
            "Epoch 10/45\n",
            "50/50 [==============================] - 1s 16ms/step - loss: 1.1844 - accuracy: 0.3944 - val_loss: 1.1897 - val_accuracy: 0.4485\n",
            "Epoch 11/45\n",
            "50/50 [==============================] - 1s 15ms/step - loss: 1.0754 - accuracy: 0.4619 - val_loss: 1.1787 - val_accuracy: 0.4485\n",
            "Epoch 12/45\n",
            "50/50 [==============================] - 1s 21ms/step - loss: 1.0433 - accuracy: 0.4487 - val_loss: 1.2010 - val_accuracy: 0.3825\n",
            "Epoch 13/45\n",
            "50/50 [==============================] - 1s 13ms/step - loss: 1.0894 - accuracy: 0.4162 - val_loss: 1.1587 - val_accuracy: 0.4405\n",
            "Epoch 14/45\n",
            "50/50 [==============================] - 1s 13ms/step - loss: 1.0777 - accuracy: 0.4231 - val_loss: 1.1405 - val_accuracy: 0.4575\n",
            "Epoch 15/45\n",
            "50/50 [==============================] - 1s 16ms/step - loss: 1.0866 - accuracy: 0.4275 - val_loss: 1.1922 - val_accuracy: 0.4580\n",
            "Epoch 16/45\n",
            "50/50 [==============================] - 1s 13ms/step - loss: 1.0346 - accuracy: 0.4737 - val_loss: 1.1667 - val_accuracy: 0.4675\n",
            "Epoch 17/45\n",
            "50/50 [==============================] - 1s 14ms/step - loss: 1.0514 - accuracy: 0.4487 - val_loss: 1.0934 - val_accuracy: 0.4850\n",
            "Epoch 18/45\n",
            "50/50 [==============================] - 1s 13ms/step - loss: 1.0199 - accuracy: 0.4462 - val_loss: 1.0695 - val_accuracy: 0.4925\n",
            "Epoch 19/45\n",
            "50/50 [==============================] - 1s 10ms/step - loss: 1.0003 - accuracy: 0.4638 - val_loss: 1.0953 - val_accuracy: 0.4545\n",
            "Epoch 20/45\n",
            "50/50 [==============================] - 1s 13ms/step - loss: 1.0275 - accuracy: 0.4550 - val_loss: 1.1845 - val_accuracy: 0.4805\n",
            "Epoch 21/45\n",
            "50/50 [==============================] - 1s 22ms/step - loss: 0.9172 - accuracy: 0.5144 - val_loss: 1.1634 - val_accuracy: 0.4905\n",
            "Epoch 22/45\n",
            "50/50 [==============================] - 1s 15ms/step - loss: 0.9149 - accuracy: 0.4869 - val_loss: 1.0359 - val_accuracy: 0.4970\n",
            "Epoch 23/45\n",
            "50/50 [==============================] - 1s 21ms/step - loss: 0.8883 - accuracy: 0.5219 - val_loss: 1.0442 - val_accuracy: 0.5055\n",
            "Epoch 24/45\n",
            "50/50 [==============================] - 1s 22ms/step - loss: 0.8981 - accuracy: 0.5144 - val_loss: 0.9830 - val_accuracy: 0.5245\n",
            "Epoch 25/45\n",
            "50/50 [==============================] - 1s 23ms/step - loss: 0.8501 - accuracy: 0.5131 - val_loss: 0.9839 - val_accuracy: 0.5360\n",
            "Epoch 26/45\n",
            "50/50 [==============================] - 1s 16ms/step - loss: 0.8532 - accuracy: 0.5156 - val_loss: 1.0944 - val_accuracy: 0.4825\n",
            "Epoch 27/45\n",
            "50/50 [==============================] - 1s 14ms/step - loss: 0.8832 - accuracy: 0.5288 - val_loss: 0.9928 - val_accuracy: 0.5295\n",
            "Epoch 28/45\n",
            "50/50 [==============================] - 1s 19ms/step - loss: 0.8494 - accuracy: 0.5394 - val_loss: 0.9131 - val_accuracy: 0.5525\n",
            "Epoch 29/45\n",
            "50/50 [==============================] - 1s 13ms/step - loss: 0.8171 - accuracy: 0.5506 - val_loss: 0.9167 - val_accuracy: 0.5465\n",
            "Epoch 30/45\n",
            "50/50 [==============================] - 0s 10ms/step - loss: 0.7846 - accuracy: 0.5831 - val_loss: 0.9072 - val_accuracy: 0.6370\n",
            "Epoch 31/45\n",
            "50/50 [==============================] - 1s 10ms/step - loss: 0.6297 - accuracy: 0.7150 - val_loss: 0.7891 - val_accuracy: 0.7065\n",
            "Epoch 32/45\n",
            "50/50 [==============================] - 0s 10ms/step - loss: 0.5972 - accuracy: 0.7606 - val_loss: 0.7641 - val_accuracy: 0.7125\n",
            "Epoch 33/45\n",
            "50/50 [==============================] - 0s 10ms/step - loss: 0.5190 - accuracy: 0.7994 - val_loss: 0.6921 - val_accuracy: 0.7875\n",
            "Epoch 34/45\n",
            "50/50 [==============================] - 0s 10ms/step - loss: 0.4522 - accuracy: 0.8544 - val_loss: 0.5709 - val_accuracy: 0.8250\n",
            "Epoch 35/45\n",
            "50/50 [==============================] - 1s 13ms/step - loss: 0.4246 - accuracy: 0.8631 - val_loss: 0.6629 - val_accuracy: 0.8030\n",
            "Epoch 36/45\n",
            "50/50 [==============================] - 1s 12ms/step - loss: 0.4244 - accuracy: 0.8587 - val_loss: 0.5162 - val_accuracy: 0.8470\n",
            "Epoch 37/45\n",
            "50/50 [==============================] - 1s 12ms/step - loss: 0.3496 - accuracy: 0.8981 - val_loss: 0.4841 - val_accuracy: 0.8610\n",
            "Epoch 38/45\n",
            "50/50 [==============================] - 1s 12ms/step - loss: 0.3034 - accuracy: 0.9000 - val_loss: 0.6022 - val_accuracy: 0.8275\n",
            "Epoch 39/45\n",
            "50/50 [==============================] - 1s 10ms/step - loss: 0.3443 - accuracy: 0.8750 - val_loss: 0.4206 - val_accuracy: 0.8605\n",
            "Epoch 40/45\n",
            "50/50 [==============================] - 1s 13ms/step - loss: 0.3028 - accuracy: 0.8994 - val_loss: 0.4529 - val_accuracy: 0.8515\n",
            "Epoch 41/45\n",
            "50/50 [==============================] - 0s 10ms/step - loss: 0.1943 - accuracy: 0.9388 - val_loss: 0.5031 - val_accuracy: 0.8645\n",
            "Epoch 42/45\n",
            "50/50 [==============================] - 1s 22ms/step - loss: 0.1735 - accuracy: 0.9431 - val_loss: 0.4203 - val_accuracy: 0.8735\n",
            "Epoch 43/45\n",
            "50/50 [==============================] - 1s 14ms/step - loss: 0.1905 - accuracy: 0.9362 - val_loss: 0.4333 - val_accuracy: 0.8725\n",
            "Epoch 44/45\n",
            "50/50 [==============================] - 1s 19ms/step - loss: 0.2258 - accuracy: 0.9287 - val_loss: 0.4805 - val_accuracy: 0.8680\n",
            "Epoch 45/45\n",
            "50/50 [==============================] - 1s 15ms/step - loss: 0.2221 - accuracy: 0.9262 - val_loss: 0.4142 - val_accuracy: 0.8690\n"
          ]
        }
      ]
    },
    {
      "cell_type": "code",
      "source": [],
      "metadata": {
        "id": "T14_IfjJvP0R"
      },
      "execution_count": null,
      "outputs": []
    },
    {
      "cell_type": "code",
      "source": [
        "plt.plot(history.history['accuracy'])\n",
        "plt.plot(history.history['val_accuracy'])\n",
        "plt.title('Model Accuracy')\n",
        "plt.ylabel('Accuracy')\n",
        "plt.xlabel('Epoch')\n",
        "plt.legend(['Train', 'Validation'], loc='upper left')\n",
        "plt.show()"
      ],
      "metadata": {
        "colab": {
          "base_uri": "https://localhost:8080/",
          "height": 472
        },
        "id": "njbQ2i8kqXrh",
        "outputId": "728ed8e5-f53e-4708-8f5d-6166b6a00c93"
      },
      "execution_count": null,
      "outputs": [
        {
          "output_type": "display_data",
          "data": {
            "text/plain": [
              "<Figure size 640x480 with 1 Axes>"
            ],
            "image/png": "[encoded data removed]"
          },
          "metadata": {}
        }
      ]
    },
    {
      "cell_type": "code",
      "source": [
        "plt.plot(history.history['loss'])\n",
        "plt.plot(history.history['val_loss'])\n",
        "plt.title('Model Loss')\n",
        "plt.ylabel('Loss')\n",
        "plt.xlabel('Epoch')\n",
        "plt.legend(['Train', 'Validation'], loc='upper left')\n",
        "plt.show()"
      ],
      "metadata": {
        "colab": {
          "base_uri": "https://localhost:8080/",
          "height": 472
        },
        "id": "0JcePt4nEq9R",
        "outputId": "06493072-18f4-4a27-a5c6-6b3d694730f7"
      },
      "execution_count": null,
      "outputs": [
        {
          "output_type": "display_data",
          "data": {
            "text/plain": [
              "<Figure size 640x480 with 1 Axes>"
            ],
            "image/png": "[encoded data removed]"
          },
          "metadata": {}
        }
      ]
    },
    {
      "cell_type": "code",
      "source": [
        "vocab[915]"
      ],
      "metadata": {
        "id": "07PZ5MWCqZc9",
        "colab": {
          "base_uri": "https://localhost:8080/",
          "height": 35
        },
        "outputId": "5d490efc-da81-4d91-b2a3-bd309d13e158"
      },
      "execution_count": null,
      "outputs": [
        {
          "output_type": "execute_result",
          "data": {
            "text/plain": [
              "'fucking'"
            ],
            "application/vnd.google.colaboratory.intrinsic+json": {
              "type": "string"
            }
          },
          "metadata": {},
          "execution_count": 42
        }
      ]
    },
    {
      "cell_type": "code",
      "source": [
        "sent = \"I was extremely upset by the weather today and all this fucking dirt\"\n",
        "sent_flat = tf.reshape(sent, [-1])\n",
        "vect = vectorizer(tf.reshape(sent, [-1, 1]))\n",
        "print(vect)\n",
        "print()\n",
        "print(np.round(model.predict(vect),2))\n",
        "print()\n",
        "print(tags[np.argmax(model.predict(vect))])"
      ],
      "metadata": {
        "id": "iv-HAtnet12T",
        "colab": {
          "base_uri": "https://localhost:8080/"
        },
        "outputId": "1ea794da-e93a-49c7-9b17-0642ac5356b9"
      },
      "execution_count": null,
      "outputs": [
        {
          "output_type": "stream",
          "name": "stdout",
          "text": [
            "tf.Tensor(\n",
            "[[   2   20  377  656   45    6  962  122    4   36   23  915 6888    0\n",
            "     0    0    0    0    0    0    0    0    0    0    0    0    0    0\n",
            "     0    0    0    0    0]], shape=(1, 33), dtype=int64)\n",
            "\n",
            "1/1 [==============================] - 0s 68ms/step\n",
            "[[0.79 0.18 0.01 0.01 0.   0.  ]]\n",
            "\n",
            "1/1 [==============================] - 0s 68ms/step\n",
            "sadness\n"
          ]
        }
      ]
    },
    {
      "cell_type": "code",
      "source": [
        "model.save(\"/content/my_modelV2.h5\")"
      ],
      "metadata": {
        "id": "er4b26HFxUg2"
      },
      "execution_count": null,
      "outputs": []
    },
    {
      "cell_type": "code",
      "source": [],
      "metadata": {
        "colab": {
          "base_uri": "https://localhost:8080/"
        },
        "id": "ox0tcpxW90hk",
        "outputId": "6f326440-4c9d-4ebc-d0af-e17263e3a5fe"
      },
      "execution_count": null,
      "outputs": [
        {
          "output_type": "execute_result",
          "data": {
            "text/plain": [
              "28"
            ]
          },
          "metadata": {},
          "execution_count": 2
        }
      ]
    },
    {
      "cell_type": "code",
      "source": [],
      "metadata": {
        "id": "-p8XzRlcTnJ8"
      },
      "execution_count": null,
      "outputs": []
    }
  ]
}