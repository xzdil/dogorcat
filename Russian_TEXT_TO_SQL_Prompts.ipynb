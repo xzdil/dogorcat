{
  "nbformat": 4,
  "nbformat_minor": 0,
  "metadata": {
    "colab": {
      "provenance": [],
      "authorship_tag": "ABX9TyPXLa0VlDVluQKRjBiSUnTn",
      "include_colab_link": true
    },
    "kernelspec": {
      "name": "python3",
      "display_name": "Python 3"
    },
    "language_info": {
      "name": "python"
    }
  },
  "cells": [
    {
      "cell_type": "markdown",
      "metadata": {
        "id": "view-in-github",
        "colab_type": "text"
      },
      "source": [
        "<a href=\"https://colab.research.google.com/github/xzdil/googlecollabprojects/blob/main/Russian_TEXT_TO_SQL_Prompts.ipynb\" target=\"_parent\"><img src=\"https://colab.research.google.com/assets/colab-badge.svg\" alt=\"Open In Colab\"/></a>"
      ]
    },
    {
      "cell_type": "code",
      "source": [
        "from llama_index.core.prompts.prompt_type import PromptType\n",
        "from llama_index.core.prompts import PromptTemplate\n",
        "\n",
        "RUSSIAN_RESPONSE_SYNTHESIS_PROMPT_TMPL = (\n",
        "    \"При наличии входного вопроса синтезируйте ответ из результатов запроса.\\n\"\n",
        "    \"Запрос: {query_str}\\n\"\n",
        "    \"SQL: {sql_query}\\n\"\n",
        "    \"Ответ SQL: {context_str}\\n\"\n",
        "    \"Ответ: \"\n",
        ")\n",
        "RUSSIAN_RESPONSE_SYNTHESIS_PROMPT = PromptTemplate(\n",
        "    RUSSIAN_RESPONSE_SYNTHESIS_PROMPT_TMPL,\n",
        "    prompt_type=PromptType.SQL_RESPONSE_SYNTHESIS_V2,\n",
        ")\n",
        "\n",
        "RUSSIAN_TEXT_TO_SQL_TMPL = (\n",
        "    \"Учитывая входной вопрос, сначала создайте синтаксически правильный {dialect} \"\n",
        "    \"запрос для выполнения, затем просмотрите результаты запроса и верните ответ. \"\n",
        "    \"Вы можете упорядочить результаты по соответствующему столбцу, чтобы получить больше всего \"\n",
        "    \"интересных примеров в базе данных.\\n\\n\"\n",
        "    \"Никогда не запрашивайте все столбцы из определенной таблицы,попроси только \"\n",
        "    \"несколько соответствующих столбцов с учетом вопроса.\\n\\n\"\n",
        "    \"Обратите внимание: используйте только те имена столбцов, которые вы видите в схеме \"\n",
        "    \"описания. \"\n",
        "    \"Будьте осторожны и не запрашивайте несуществующие столбцы. \"\n",
        "    \"Обратите внимание, какой столбец в какой таблице находится. \"\n",
        "    \"Также,при необходимости уточняйте имена столбцов именем таблицы. \"\n",
        "    \"Вам необходимо использовать следующий формат, каждая из которых занимает одну строку:\\n\\n\"\n",
        "    \"Вопрос: Вопрос здесь\\n\"\n",
        "    \"SQLQuery: SQL-запрос для выполнения\\n\"\n",
        "    \"SQLResult: результат SQLQuery\\n\"\n",
        "    \"Ответ: Окончательный ответ здесь\\n\\n\"\n",
        "    \"Используйте только таблицы, перечисленные ниже.\\n\"\n",
        "    \"{schema}\\n\\n\"\n",
        "    \"Вопрос: {query_str}\\n\"\n",
        "    \"SQLQuery: \"\n",
        ")\n",
        "\n",
        "RUSSIAN_TEXT_TO_SQL_PROMPT = PromptTemplate(\n",
        "    RUSSIAN_TEXT_TO_SQL_TMPL,\n",
        "    prompt_type=PromptType.TEXT_TO_SQL,\n",
        ")"
      ],
      "metadata": {
        "id": "153bOUO12MxK"
      },
      "execution_count": null,
      "outputs": []
    }
  ]
}