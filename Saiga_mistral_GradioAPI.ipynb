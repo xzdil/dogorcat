{
  "nbformat": 4,
  "nbformat_minor": 0,
  "metadata": {
    "colab": {
      "provenance": [],
      "gpuType": "T4",
      "authorship_tag": "ABX9TyMm+qjKxRouzgcpEm3ZWeg6",
      "include_colab_link": true
    },
    "kernelspec": {
      "name": "python3",
      "display_name": "Python 3"
    },
    "language_info": {
      "name": "python"
    },
    "accelerator": "GPU"
  },
  "cells": [
    {
      "cell_type": "markdown",
      "metadata": {
        "id": "view-in-github",
        "colab_type": "text"
      },
      "source": [
        "<a href=\"https://colab.research.google.com/github/xzdil/googlecollabprojects/blob/main/Saiga_mistral_GradioAPI.ipynb\" target=\"_parent\"><img src=\"https://colab.research.google.com/assets/colab-badge.svg\" alt=\"Open In Colab\"/></a>"
      ]
    },
    {
      "cell_type": "code",
      "source": [
        "!CMAKE_ARGS=\"-DLLAMA_CUBLAS=on\" FORCE_CMAKE=1 pip install llama-index-llms-llama-cpp\n",
        "!pip install llama-index gradio"
      ],
      "metadata": {
        "id": "8DTWmkI_stLz"
      },
      "execution_count": null,
      "outputs": []
    },
    {
      "cell_type": "code",
      "source": [
        "from llama_index.llms.llama_cpp import LlamaCPP\n",
        "from llama_index.llms.llama_cpp.llama_utils import (\n",
        "    messages_to_prompt,\n",
        "    completion_to_prompt\n",
        ")\n",
        "\n",
        "model_url = 'https://huggingface.co/TheBloke/saiga_mistral_7b-GGUF/resolve/main/saiga_mistral_7b.Q5_K_S.gguf'\n",
        "\n",
        "llm = LlamaCPP(\n",
        "    # You can pass in the URL to a GGML model to download it automatically\n",
        "    model_url=model_url,\n",
        "    # optionally, you can set the path to a pre-downloaded model instead of model_url\n",
        "    model_path=None,\n",
        "    max_new_tokens=4000,\n",
        "    context_window=20000,\n",
        "    generate_kwargs={},\n",
        "    model_kwargs={\"n_gpu_layers\": -1,\n",
        "                  \"cache\":True,\n",
        "                  \"use_mmap\":True},\n",
        "    messages_to_prompt=messages_to_prompt,\n",
        "    completion_to_prompt=completion_to_prompt,\n",
        "    verbose=True\n",
        ")"
      ],
      "metadata": {
        "id": "1ee6idJ-S5No"
      },
      "execution_count": null,
      "outputs": []
    },
    {
      "cell_type": "code",
      "source": [
        "import gradio as gr\n",
        "\n",
        "def gen(message, history):\n",
        "  response_iter = llm.stream_complete(message)\n",
        "  for response in response_iter:\n",
        "      yield response.delta\n",
        "\n",
        "import gradio as gr\n",
        "\n",
        "demo = gr.ChatInterface(fn=gen, examples=[\"Привет\"],\n",
        "                        title=\"Saiga mistral\",\n",
        "                        description=\"\")\n",
        "demo.launch(debug=True,share=True)"
      ],
      "metadata": {
        "id": "DduzpvSATElJ"
      },
      "execution_count": null,
      "outputs": []
    },
    {
      "cell_type": "code",
      "source": [],
      "metadata": {
        "id": "xoMpohMgWG3m"
      },
      "execution_count": 3,
      "outputs": []
    }
  ]
}