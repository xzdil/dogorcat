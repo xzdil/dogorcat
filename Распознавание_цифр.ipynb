{
  "nbformat": 4,
  "nbformat_minor": 0,
  "metadata": {
    "colab": {
      "provenance": [],
      "collapsed_sections": [],
      "toc_visible": true,
      "include_colab_link": true
    },
    "kernelspec": {
      "display_name": "Python 3",
      "name": "python3"
    },
    "accelerator": "GPU"
  },
  "cells": [
    {
      "cell_type": "markdown",
      "metadata": {
        "id": "view-in-github",
        "colab_type": "text"
      },
      "source": [
        "<a href=\"https://colab.research.google.com/github/xzdil/dogorcat/blob/mnist/%D0%A0%D0%B0%D1%81%D0%BF%D0%BE%D0%B7%D0%BD%D0%B0%D0%B2%D0%B0%D0%BD%D0%B8%D0%B5_%D1%86%D0%B8%D1%84%D1%80.ipynb\" target=\"_parent\"><img src=\"https://colab.research.google.com/assets/colab-badge.svg\" alt=\"Open In Colab\"/></a>"
      ]
    },
    {
      "cell_type": "code",
      "metadata": {
        "id": "-yC0Jc13i4TG"
      },
      "source": [
        "import torch\n",
        "from torch import nn\n",
        "from torch import optim\n",
        "from torchvision import datasets, transforms \n",
        "from torch.utils.data import random_split, DataLoader"
      ],
      "execution_count": null,
      "outputs": []
    },
    {
      "cell_type": "code",
      "metadata": {
        "id": "KttNoaBc45OC"
      },
      "source": [
        "train_data = datasets.MNIST('data', train=True, download=True, transform=transforms.ToTensor())\n",
        "train, val = random_split(train_data, (55000, 5000))\n",
        "train_loader = DataLoader(train, batch_size = 32)\n",
        "val_loader = DataLoader(val, batch_size = 32)  "
      ],
      "execution_count": null,
      "outputs": []
    },
    {
      "cell_type": "code",
      "metadata": {
        "id": "3Y9Kbhrcw3iv"
      },
      "source": [
        "model = nn.Sequential(\n",
        "    nn.Linear(28 * 28, 64),\n",
        "    nn.ReLU(),\n",
        "    nn.Linear(64, 64),\n",
        "    nn.ReLU(),\n",
        "    nn.Dropout(0.1),\n",
        "    nn.Linear(64, 10)\n",
        ")"
      ],
      "execution_count": null,
      "outputs": []
    },
    {
      "cell_type": "code",
      "metadata": {
        "id": "TEjmfWZwzEND"
      },
      "source": [
        "optimiser = optim.SGD(model.parameters(), lr = 1e-2)"
      ],
      "execution_count": null,
      "outputs": []
    },
    {
      "cell_type": "code",
      "metadata": {
        "id": "FFT3iCSbztXW"
      },
      "source": [
        "loss = nn.CrossEntropyLoss()"
      ],
      "execution_count": null,
      "outputs": []
    },
    {
      "cell_type": "code",
      "metadata": {
        "colab": {
          "base_uri": "https://localhost:8080/"
        },
        "id": "a0Oic670z3Pb",
        "outputId": "de6e3bdd-ce70-479a-fc96-2e3f332cf4f1"
      },
      "source": [
        "nb_epochs = 5\n",
        "for epoch in range(nb_epochs):\n",
        "    losses = list()\n",
        "    accuracies = list()\n",
        "    model.train()\n",
        "    for batch in train_loader:\n",
        "        x,y = batch\n",
        "        b = x.size(0)\n",
        "        x = x.view(b, -1)\n",
        "\n",
        "        l = model(x)\n",
        "\n",
        "        j = loss(l, y)\n",
        "\n",
        "        model.zero_grad()\n",
        "\n",
        "        j.backward()\n",
        "        \n",
        "        optimiser.step()\n",
        "\n",
        "        losses.append(j.item())\n",
        "        accuracies.append(y.eq(l.detach().argmax(dim=1)).float().mean())\n",
        "\n",
        "    print(f'Epoch {epoch + 1},', end=', ')\n",
        "    print(f'train loss: {torch.tensor(losses).mean():.2f}', end=', ')\n",
        "    print(f'train accuracy: {torch.tensor(accuracies).mean():.2f}')\n",
        "    losses = list()\n",
        "    accuracies = list()\n",
        "    model.eval()\n",
        "    for batch in val_loader:\n",
        "        x,y = batch\n",
        "        b = x.size(0)\n",
        "        x = x.view(b, -1)\n",
        "        with torch.no_grad():\n",
        "            l = model(x)\n",
        "        j = loss(l, y)\n",
        "        losses.append(j.item())\n",
        "        accuracies.append(y.eq(l.detach().argmax(dim=1)).float().mean())\n",
        "    print(f'Epoch {epoch + 1},', end=', ')\n",
        "    print(f'val loss: {torch.tensor(losses).mean():.2f}', end=', ')\n",
        "    print(f'val accuracy: {torch.tensor(accuracies).mean():.2f}')"
      ],
      "execution_count": null,
      "outputs": [
        {
          "output_type": "stream",
          "name": "stdout",
          "text": [
            "Epoch 1,, train loss: 0.18, train accuracy: 0.95\n",
            "Epoch 1,, val loss: 0.17, val accuracy: 0.95\n",
            "Epoch 2,, train loss: 0.17, train accuracy: 0.95\n",
            "Epoch 2,, val loss: 0.16, val accuracy: 0.95\n",
            "Epoch 3,, train loss: 0.16, train accuracy: 0.95\n",
            "Epoch 3,, val loss: 0.16, val accuracy: 0.95\n",
            "Epoch 4,, train loss: 0.15, train accuracy: 0.96\n",
            "Epoch 4,, val loss: 0.15, val accuracy: 0.95\n",
            "Epoch 5,, train loss: 0.14, train accuracy: 0.96\n",
            "Epoch 5,, val loss: 0.15, val accuracy: 0.96\n"
          ]
        }
      ]
    },
    {
      "cell_type": "code",
      "metadata": {
        "id": "xvONd59Ojsy2"
      },
      "source": [],
      "execution_count": null,
      "outputs": []
    }
  ]
}