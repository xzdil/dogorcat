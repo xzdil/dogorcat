{
  "cells": [
    {
      "cell_type": "markdown",
      "metadata": {
        "id": "view-in-github",
        "colab_type": "text"
      },
      "source": [
        "<a href=\"https://colab.research.google.com/github/xzdil/googlecollabprojects/blob/main/Adil_Rakhimzhanov_BD_2106_Assingment1.ipynb\" target=\"_parent\"><img src=\"https://colab.research.google.com/assets/colab-badge.svg\" alt=\"Open In Colab\"/></a>"
      ]
    },
    {
      "cell_type": "markdown",
      "metadata": {
        "id": "1EVXVX3BBNYk"
      },
      "source": [
        "# S&D1: Assignment 1\n",
        "## Deadline: January 14 (until 14:00)\n",
        "## This is an individual or a group assignment (max 2 students). You are allowed to use any previously written source for your research on the topic. However, any source other than the textbook and the class notes should be cited and the bibliographic information should be given.\n",
        "\n",
        "\n",
        "**Instructions:** All answers should be filled in the notebook and then submitted.\n",
        "Name of notebook should be in following format:\n",
        " - Name_Surname_Group_Assignment1.ipynb (ex. Beibit_Abdikenov_BDA_210X_Assignment1.ipynb)"
      ]
    },
    {
      "cell_type": "markdown",
      "metadata": {
        "id": "rEA_g5scBNYq"
      },
      "source": [
        "# Q1 (30%)\n",
        "Read video games sales data from vgsales.csv file. This dataset contains a list of video games with sales greater than 100,000 copies. Fields include:\n",
        "* Rank - Ranking of overall sales\n",
        "* Name - The games name\n",
        "* Platform - Platform of the games release (i.e. PC,PS4, etc.)\n",
        "* Year - Year of the game's release\n",
        "* Genre - Genre of the game\n",
        "* Publisher - Publisher of the game\n",
        "* NA_Sales - Sales in North America (in millions)\n",
        "* EU_Sales - Sales in Europe (in millions)\n",
        "* JP_Sales - Sales in Japan (in millions)\n",
        "* Other_Sales - Sales in the rest of the world (in millions)\n",
        "* Global_Sales - Total worldwide sales.\n",
        "\n",
        "**Tasks to do:**\n",
        "1. Using the Matplotlib library build histograms and boxplots for NA_Sales, EU_Sales, JP_Sales, Other_Sales, Global_Sales? \n",
        "2. What is the average sales for each region? \n",
        "3. What is the standard deviation for each region?\n",
        "4. How many outliers (using IQR rule) we have in Global_Sales column?\n",
        "5. What is the difference between mean and median values in Global_Sales column? \n",
        "6. Remove outliers and plot histogram and boxplot again. \n",
        "7. What is the difference between mean and median now?\n",
        "8. In your opinion what happened, why difference between mean and median have changed?\n",
        "\n",
        "*Hint: use pandas to read dataset.*"
      ]
    },
    {
      "cell_type": "code",
      "execution_count": null,
      "metadata": {
        "id": "9PjNulDiBNYs"
      },
      "outputs": [],
      "source": [
        "import pandas as pd\n",
        "import numpy as np\n",
        "import matplotlib.pyplot as plt\n",
        "from scipy.stats import norm"
      ]
    },
    {
      "cell_type": "code",
      "source": [
        "df = pd.read_csv('vgsales.csv')\n",
        "df.head()"
      ],
      "metadata": {
        "colab": {
          "base_uri": "https://localhost:8080/",
          "height": 320
        },
        "id": "VVGUrSj4CI5c",
        "outputId": "6bdf2875-9d07-45ee-8de4-00e954618179"
      },
      "execution_count": null,
      "outputs": [
        {
          "output_type": "execute_result",
          "data": {
            "text/plain": [
              "   Rank                      Name Platform    Year         Genre Publisher  \\\n",
              "0     1                Wii Sports      Wii  2006.0        Sports  Nintendo   \n",
              "1     2         Super Mario Bros.      NES  1985.0      Platform  Nintendo   \n",
              "2     3            Mario Kart Wii      Wii  2008.0        Racing  Nintendo   \n",
              "3     4         Wii Sports Resort      Wii  2009.0        Sports  Nintendo   \n",
              "4     5  Pokemon Red/Pokemon Blue       GB  1996.0  Role-Playing  Nintendo   \n",
              "\n",
              "   NA_Sales  EU_Sales  JP_Sales  Other_Sales  Global_Sales  \n",
              "0     41.49     29.02      3.77         8.46         82.74  \n",
              "1     29.08      3.58      6.81         0.77         40.24  \n",
              "2     15.85     12.88      3.79         3.31         35.82  \n",
              "3     15.75     11.01      3.28         2.96         33.00  \n",
              "4     11.27      8.89     10.22         1.00         31.37  "
            ],
            "text/html": [
              "\n",
              "  <div id=\"df-b36f31e8-9ac0-439c-be42-db38832fda16\">\n",
              "    <div class=\"colab-df-container\">\n",
              "      <div>\n",
              "<style scoped>\n",
              "    .dataframe tbody tr th:only-of-type {\n",
              "        vertical-align: middle;\n",
              "    }\n",
              "\n",
              "    .dataframe tbody tr th {\n",
              "        vertical-align: top;\n",
              "    }\n",
              "\n",
              "    .dataframe thead th {\n",
              "        text-align: right;\n",
              "    }\n",
              "</style>\n",
              "<table border=\"1\" class=\"dataframe\">\n",
              "  <thead>\n",
              "    <tr style=\"text-align: right;\">\n",
              "      <th></th>\n",
              "      <th>Rank</th>\n",
              "      <th>Name</th>\n",
              "      <th>Platform</th>\n",
              "      <th>Year</th>\n",
              "      <th>Genre</th>\n",
              "      <th>Publisher</th>\n",
              "      <th>NA_Sales</th>\n",
              "      <th>EU_Sales</th>\n",
              "      <th>JP_Sales</th>\n",
              "      <th>Other_Sales</th>\n",
              "      <th>Global_Sales</th>\n",
              "    </tr>\n",
              "  </thead>\n",
              "  <tbody>\n",
              "    <tr>\n",
              "      <th>0</th>\n",
              "      <td>1</td>\n",
              "      <td>Wii Sports</td>\n",
              "      <td>Wii</td>\n",
              "      <td>2006.0</td>\n",
              "      <td>Sports</td>\n",
              "      <td>Nintendo</td>\n",
              "      <td>41.49</td>\n",
              "      <td>29.02</td>\n",
              "      <td>3.77</td>\n",
              "      <td>8.46</td>\n",
              "      <td>82.74</td>\n",
              "    </tr>\n",
              "    <tr>\n",
              "      <th>1</th>\n",
              "      <td>2</td>\n",
              "      <td>Super Mario Bros.</td>\n",
              "      <td>NES</td>\n",
              "      <td>1985.0</td>\n",
              "      <td>Platform</td>\n",
              "      <td>Nintendo</td>\n",
              "      <td>29.08</td>\n",
              "      <td>3.58</td>\n",
              "      <td>6.81</td>\n",
              "      <td>0.77</td>\n",
              "      <td>40.24</td>\n",
              "    </tr>\n",
              "    <tr>\n",
              "      <th>2</th>\n",
              "      <td>3</td>\n",
              "      <td>Mario Kart Wii</td>\n",
              "      <td>Wii</td>\n",
              "      <td>2008.0</td>\n",
              "      <td>Racing</td>\n",
              "      <td>Nintendo</td>\n",
              "      <td>15.85</td>\n",
              "      <td>12.88</td>\n",
              "      <td>3.79</td>\n",
              "      <td>3.31</td>\n",
              "      <td>35.82</td>\n",
              "    </tr>\n",
              "    <tr>\n",
              "      <th>3</th>\n",
              "      <td>4</td>\n",
              "      <td>Wii Sports Resort</td>\n",
              "      <td>Wii</td>\n",
              "      <td>2009.0</td>\n",
              "      <td>Sports</td>\n",
              "      <td>Nintendo</td>\n",
              "      <td>15.75</td>\n",
              "      <td>11.01</td>\n",
              "      <td>3.28</td>\n",
              "      <td>2.96</td>\n",
              "      <td>33.00</td>\n",
              "    </tr>\n",
              "    <tr>\n",
              "      <th>4</th>\n",
              "      <td>5</td>\n",
              "      <td>Pokemon Red/Pokemon Blue</td>\n",
              "      <td>GB</td>\n",
              "      <td>1996.0</td>\n",
              "      <td>Role-Playing</td>\n",
              "      <td>Nintendo</td>\n",
              "      <td>11.27</td>\n",
              "      <td>8.89</td>\n",
              "      <td>10.22</td>\n",
              "      <td>1.00</td>\n",
              "      <td>31.37</td>\n",
              "    </tr>\n",
              "  </tbody>\n",
              "</table>\n",
              "</div>\n",
              "      <button class=\"colab-df-convert\" onclick=\"convertToInteractive('df-b36f31e8-9ac0-439c-be42-db38832fda16')\"\n",
              "              title=\"Convert this dataframe to an interactive table.\"\n",
              "              style=\"display:none;\">\n",
              "        \n",
              "  <svg xmlns=\"http://www.w3.org/2000/svg\" height=\"24px\"viewBox=\"0 0 24 24\"\n",
              "       width=\"24px\">\n",
              "    <path d=\"M0 0h24v24H0V0z\" fill=\"none\"/>\n",
              "    <path d=\"M18.56 5.44l.94 2.06.94-2.06 2.06-.94-2.06-.94-.94-2.06-.94 2.06-2.06.94zm-11 1L8.5 8.5l.94-2.06 2.06-.94-2.06-.94L8.5 2.5l-.94 2.06-2.06.94zm10 10l.94 2.06.94-2.06 2.06-.94-2.06-.94-.94-2.06-.94 2.06-2.06.94z\"/><path d=\"M17.41 7.96l-1.37-1.37c-.4-.4-.92-.59-1.43-.59-.52 0-1.04.2-1.43.59L10.3 9.45l-7.72 7.72c-.78.78-.78 2.05 0 2.83L4 21.41c.39.39.9.59 1.41.59.51 0 1.02-.2 1.41-.59l7.78-7.78 2.81-2.81c.8-.78.8-2.07 0-2.86zM5.41 20L4 18.59l7.72-7.72 1.47 1.35L5.41 20z\"/>\n",
              "  </svg>\n",
              "      </button>\n",
              "      \n",
              "  <style>\n",
              "    .colab-df-container {\n",
              "      display:flex;\n",
              "      flex-wrap:wrap;\n",
              "      gap: 12px;\n",
              "    }\n",
              "\n",
              "    .colab-df-convert {\n",
              "      background-color: #E8F0FE;\n",
              "      border: none;\n",
              "      border-radius: 50%;\n",
              "      cursor: pointer;\n",
              "      display: none;\n",
              "      fill: #1967D2;\n",
              "      height: 32px;\n",
              "      padding: 0 0 0 0;\n",
              "      width: 32px;\n",
              "    }\n",
              "\n",
              "    .colab-df-convert:hover {\n",
              "      background-color: #E2EBFA;\n",
              "      box-shadow: 0px 1px 2px rgba(60, 64, 67, 0.3), 0px 1px 3px 1px rgba(60, 64, 67, 0.15);\n",
              "      fill: #174EA6;\n",
              "    }\n",
              "\n",
              "    [theme=dark] .colab-df-convert {\n",
              "      background-color: #3B4455;\n",
              "      fill: #D2E3FC;\n",
              "    }\n",
              "\n",
              "    [theme=dark] .colab-df-convert:hover {\n",
              "      background-color: #434B5C;\n",
              "      box-shadow: 0px 1px 3px 1px rgba(0, 0, 0, 0.15);\n",
              "      filter: drop-shadow(0px 1px 2px rgba(0, 0, 0, 0.3));\n",
              "      fill: #FFFFFF;\n",
              "    }\n",
              "  </style>\n",
              "\n",
              "      <script>\n",
              "        const buttonEl =\n",
              "          document.querySelector('#df-b36f31e8-9ac0-439c-be42-db38832fda16 button.colab-df-convert');\n",
              "        buttonEl.style.display =\n",
              "          google.colab.kernel.accessAllowed ? 'block' : 'none';\n",
              "\n",
              "        async function convertToInteractive(key) {\n",
              "          const element = document.querySelector('#df-b36f31e8-9ac0-439c-be42-db38832fda16');\n",
              "          const dataTable =\n",
              "            await google.colab.kernel.invokeFunction('convertToInteractive',\n",
              "                                                     [key], {});\n",
              "          if (!dataTable) return;\n",
              "\n",
              "          const docLinkHtml = 'Like what you see? Visit the ' +\n",
              "            '<a target=\"_blank\" href=https://colab.research.google.com/notebooks/data_table.ipynb>data table notebook</a>'\n",
              "            + ' to learn more about interactive tables.';\n",
              "          element.innerHTML = '';\n",
              "          dataTable['output_type'] = 'display_data';\n",
              "          await google.colab.output.renderOutput(dataTable, element);\n",
              "          const docLink = document.createElement('div');\n",
              "          docLink.innerHTML = docLinkHtml;\n",
              "          element.appendChild(docLink);\n",
              "        }\n",
              "      </script>\n",
              "    </div>\n",
              "  </div>\n",
              "  "
            ]
          },
          "metadata": {},
          "execution_count": 5
        }
      ]
    },
    {
      "cell_type": "markdown",
      "source": [
        "## 1 Task"
      ],
      "metadata": {
        "id": "FYvgflbBFZZz"
      }
    },
    {
      "cell_type": "code",
      "source": [
        "arr = ['NA_Sales', 'EU_Sales', 'JP_Sales', 'Other_Sales', 'Global_Sales']\n",
        "fig, axs = plt.subplots(1,len(arr), figsize=(20,5))\n",
        "\n",
        "for i in range(len(arr)):\n",
        "  subplot = axs[i]\n",
        "  subplot.set_title(arr[i])\n",
        "  subplot.hist(df[arr[i]])\n",
        "plt.show()"
      ],
      "metadata": {
        "colab": {
          "base_uri": "https://localhost:8080/",
          "height": 263
        },
        "id": "5NA_7TJMKOVf",
        "outputId": "2dcc832f-a47a-4d86-c131-e15d788db5aa"
      },
      "execution_count": null,
      "outputs": [
        {
          "output_type": "display_data",
          "data": {
            "text/plain": [
              "<Figure size 1440x360 with 5 Axes>"
            ],
            "image/png": "[encoded data removed]"
          },
          "metadata": {
            "needs_background": "light"
          }
        }
      ]
    },
    {
      "cell_type": "code",
      "source": [
        "\n",
        "fig, axs = plt.subplots(1,len(arr), figsize=(20,5))\n",
        "for i in range(len(arr)):\n",
        "  subplot = axs[i]\n",
        "  subplot.set_title(arr[i])\n",
        "  subplot.boxplot(df[arr[i]])\n",
        "plt.show()"
      ],
      "metadata": {
        "colab": {
          "base_uri": "https://localhost:8080/",
          "height": 267
        },
        "id": "DG5p3vIWNV26",
        "outputId": "67b94916-4f88-47a7-f636-2d5e8d0e5f8f"
      },
      "execution_count": null,
      "outputs": [
        {
          "output_type": "display_data",
          "data": {
            "text/plain": [
              "<Figure size 1440x360 with 5 Axes>"
            ],
            "image/png": "[encoded data removed]"
          },
          "metadata": {
            "needs_background": "light"
          }
        }
      ]
    },
    {
      "cell_type": "markdown",
      "source": [
        "## 2,3 Tasks"
      ],
      "metadata": {
        "id": "9p3wS8IsEdPO"
      }
    },
    {
      "cell_type": "code",
      "source": [
        "df.describe()"
      ],
      "metadata": {
        "colab": {
          "base_uri": "https://localhost:8080/",
          "height": 300
        },
        "id": "TJskorxgCY_T",
        "outputId": "2b8a48bd-f91e-455b-bb03-ddf56e6f1f7d"
      },
      "execution_count": null,
      "outputs": [
        {
          "output_type": "execute_result",
          "data": {
            "text/plain": [
              "               Rank          Year      NA_Sales      EU_Sales      JP_Sales  \\\n",
              "count  16598.000000  16327.000000  16598.000000  16598.000000  16598.000000   \n",
              "mean    8300.605254   2006.406443      0.264667      0.146652      0.077782   \n",
              "std     4791.853933      5.828981      0.816683      0.505351      0.309291   \n",
              "min        1.000000   1980.000000      0.000000      0.000000      0.000000   \n",
              "25%     4151.250000   2003.000000      0.000000      0.000000      0.000000   \n",
              "50%     8300.500000   2007.000000      0.080000      0.020000      0.000000   \n",
              "75%    12449.750000   2010.000000      0.240000      0.110000      0.040000   \n",
              "max    16600.000000   2020.000000     41.490000     29.020000     10.220000   \n",
              "\n",
              "        Other_Sales  Global_Sales  \n",
              "count  16598.000000  16598.000000  \n",
              "mean       0.048063      0.537441  \n",
              "std        0.188588      1.555028  \n",
              "min        0.000000      0.010000  \n",
              "25%        0.000000      0.060000  \n",
              "50%        0.010000      0.170000  \n",
              "75%        0.040000      0.470000  \n",
              "max       10.570000     82.740000  "
            ],
            "text/html": [
              "\n",
              "  <div id=\"df-397bc615-d31c-43d2-b458-7d473ba19c56\">\n",
              "    <div class=\"colab-df-container\">\n",
              "      <div>\n",
              "<style scoped>\n",
              "    .dataframe tbody tr th:only-of-type {\n",
              "        vertical-align: middle;\n",
              "    }\n",
              "\n",
              "    .dataframe tbody tr th {\n",
              "        vertical-align: top;\n",
              "    }\n",
              "\n",
              "    .dataframe thead th {\n",
              "        text-align: right;\n",
              "    }\n",
              "</style>\n",
              "<table border=\"1\" class=\"dataframe\">\n",
              "  <thead>\n",
              "    <tr style=\"text-align: right;\">\n",
              "      <th></th>\n",
              "      <th>Rank</th>\n",
              "      <th>Year</th>\n",
              "      <th>NA_Sales</th>\n",
              "      <th>EU_Sales</th>\n",
              "      <th>JP_Sales</th>\n",
              "      <th>Other_Sales</th>\n",
              "      <th>Global_Sales</th>\n",
              "    </tr>\n",
              "  </thead>\n",
              "  <tbody>\n",
              "    <tr>\n",
              "      <th>count</th>\n",
              "      <td>16598.000000</td>\n",
              "      <td>16327.000000</td>\n",
              "      <td>16598.000000</td>\n",
              "      <td>16598.000000</td>\n",
              "      <td>16598.000000</td>\n",
              "      <td>16598.000000</td>\n",
              "      <td>16598.000000</td>\n",
              "    </tr>\n",
              "    <tr>\n",
              "      <th>mean</th>\n",
              "      <td>8300.605254</td>\n",
              "      <td>2006.406443</td>\n",
              "      <td>0.264667</td>\n",
              "      <td>0.146652</td>\n",
              "      <td>0.077782</td>\n",
              "      <td>0.048063</td>\n",
              "      <td>0.537441</td>\n",
              "    </tr>\n",
              "    <tr>\n",
              "      <th>std</th>\n",
              "      <td>4791.853933</td>\n",
              "      <td>5.828981</td>\n",
              "      <td>0.816683</td>\n",
              "      <td>0.505351</td>\n",
              "      <td>0.309291</td>\n",
              "      <td>0.188588</td>\n",
              "      <td>1.555028</td>\n",
              "    </tr>\n",
              "    <tr>\n",
              "      <th>min</th>\n",
              "      <td>1.000000</td>\n",
              "      <td>1980.000000</td>\n",
              "      <td>0.000000</td>\n",
              "      <td>0.000000</td>\n",
              "      <td>0.000000</td>\n",
              "      <td>0.000000</td>\n",
              "      <td>0.010000</td>\n",
              "    </tr>\n",
              "    <tr>\n",
              "      <th>25%</th>\n",
              "      <td>4151.250000</td>\n",
              "      <td>2003.000000</td>\n",
              "      <td>0.000000</td>\n",
              "      <td>0.000000</td>\n",
              "      <td>0.000000</td>\n",
              "      <td>0.000000</td>\n",
              "      <td>0.060000</td>\n",
              "    </tr>\n",
              "    <tr>\n",
              "      <th>50%</th>\n",
              "      <td>8300.500000</td>\n",
              "      <td>2007.000000</td>\n",
              "      <td>0.080000</td>\n",
              "      <td>0.020000</td>\n",
              "      <td>0.000000</td>\n",
              "      <td>0.010000</td>\n",
              "      <td>0.170000</td>\n",
              "    </tr>\n",
              "    <tr>\n",
              "      <th>75%</th>\n",
              "      <td>12449.750000</td>\n",
              "      <td>2010.000000</td>\n",
              "      <td>0.240000</td>\n",
              "      <td>0.110000</td>\n",
              "      <td>0.040000</td>\n",
              "      <td>0.040000</td>\n",
              "      <td>0.470000</td>\n",
              "    </tr>\n",
              "    <tr>\n",
              "      <th>max</th>\n",
              "      <td>16600.000000</td>\n",
              "      <td>2020.000000</td>\n",
              "      <td>41.490000</td>\n",
              "      <td>29.020000</td>\n",
              "      <td>10.220000</td>\n",
              "      <td>10.570000</td>\n",
              "      <td>82.740000</td>\n",
              "    </tr>\n",
              "  </tbody>\n",
              "</table>\n",
              "</div>\n",
              "      <button class=\"colab-df-convert\" onclick=\"convertToInteractive('df-397bc615-d31c-43d2-b458-7d473ba19c56')\"\n",
              "              title=\"Convert this dataframe to an interactive table.\"\n",
              "              style=\"display:none;\">\n",
              "        \n",
              "  <svg xmlns=\"http://www.w3.org/2000/svg\" height=\"24px\"viewBox=\"0 0 24 24\"\n",
              "       width=\"24px\">\n",
              "    <path d=\"M0 0h24v24H0V0z\" fill=\"none\"/>\n",
              "    <path d=\"M18.56 5.44l.94 2.06.94-2.06 2.06-.94-2.06-.94-.94-2.06-.94 2.06-2.06.94zm-11 1L8.5 8.5l.94-2.06 2.06-.94-2.06-.94L8.5 2.5l-.94 2.06-2.06.94zm10 10l.94 2.06.94-2.06 2.06-.94-2.06-.94-.94-2.06-.94 2.06-2.06.94z\"/><path d=\"M17.41 7.96l-1.37-1.37c-.4-.4-.92-.59-1.43-.59-.52 0-1.04.2-1.43.59L10.3 9.45l-7.72 7.72c-.78.78-.78 2.05 0 2.83L4 21.41c.39.39.9.59 1.41.59.51 0 1.02-.2 1.41-.59l7.78-7.78 2.81-2.81c.8-.78.8-2.07 0-2.86zM5.41 20L4 18.59l7.72-7.72 1.47 1.35L5.41 20z\"/>\n",
              "  </svg>\n",
              "      </button>\n",
              "      \n",
              "  <style>\n",
              "    .colab-df-container {\n",
              "      display:flex;\n",
              "      flex-wrap:wrap;\n",
              "      gap: 12px;\n",
              "    }\n",
              "\n",
              "    .colab-df-convert {\n",
              "      background-color: #E8F0FE;\n",
              "      border: none;\n",
              "      border-radius: 50%;\n",
              "      cursor: pointer;\n",
              "      display: none;\n",
              "      fill: #1967D2;\n",
              "      height: 32px;\n",
              "      padding: 0 0 0 0;\n",
              "      width: 32px;\n",
              "    }\n",
              "\n",
              "    .colab-df-convert:hover {\n",
              "      background-color: #E2EBFA;\n",
              "      box-shadow: 0px 1px 2px rgba(60, 64, 67, 0.3), 0px 1px 3px 1px rgba(60, 64, 67, 0.15);\n",
              "      fill: #174EA6;\n",
              "    }\n",
              "\n",
              "    [theme=dark] .colab-df-convert {\n",
              "      background-color: #3B4455;\n",
              "      fill: #D2E3FC;\n",
              "    }\n",
              "\n",
              "    [theme=dark] .colab-df-convert:hover {\n",
              "      background-color: #434B5C;\n",
              "      box-shadow: 0px 1px 3px 1px rgba(0, 0, 0, 0.15);\n",
              "      filter: drop-shadow(0px 1px 2px rgba(0, 0, 0, 0.3));\n",
              "      fill: #FFFFFF;\n",
              "    }\n",
              "  </style>\n",
              "\n",
              "      <script>\n",
              "        const buttonEl =\n",
              "          document.querySelector('#df-397bc615-d31c-43d2-b458-7d473ba19c56 button.colab-df-convert');\n",
              "        buttonEl.style.display =\n",
              "          google.colab.kernel.accessAllowed ? 'block' : 'none';\n",
              "\n",
              "        async function convertToInteractive(key) {\n",
              "          const element = document.querySelector('#df-397bc615-d31c-43d2-b458-7d473ba19c56');\n",
              "          const dataTable =\n",
              "            await google.colab.kernel.invokeFunction('convertToInteractive',\n",
              "                                                     [key], {});\n",
              "          if (!dataTable) return;\n",
              "\n",
              "          const docLinkHtml = 'Like what you see? Visit the ' +\n",
              "            '<a target=\"_blank\" href=https://colab.research.google.com/notebooks/data_table.ipynb>data table notebook</a>'\n",
              "            + ' to learn more about interactive tables.';\n",
              "          element.innerHTML = '';\n",
              "          dataTable['output_type'] = 'display_data';\n",
              "          await google.colab.output.renderOutput(dataTable, element);\n",
              "          const docLink = document.createElement('div');\n",
              "          docLink.innerHTML = docLinkHtml;\n",
              "          element.appendChild(docLink);\n",
              "        }\n",
              "      </script>\n",
              "    </div>\n",
              "  </div>\n",
              "  "
            ]
          },
          "metadata": {},
          "execution_count": 8
        }
      ]
    },
    {
      "cell_type": "markdown",
      "source": [
        "## 4 Task"
      ],
      "metadata": {
        "id": "4xfAjIjvF4p8"
      }
    },
    {
      "cell_type": "code",
      "source": [
        "\n",
        "def findOutliers(df,i):\n",
        "  Q1 = df[i].quantile(0.25)\n",
        "  Q3 = df[i].quantile(0.75)\n",
        "  IQR = Q3-Q1\n",
        "\n",
        "  lowerBound = Q1-1.5*IQR\n",
        "  upperBound = Q3+1.5*IQR\n",
        "\n",
        "  return df[i].index[(df[i]<lowerBound) | (df[i]>upperBound)]\n",
        "\n",
        "cols = ['NA_Sales', 'EU_Sales', 'JP_Sales', 'Other_Sales', 'Global_Sales']\n",
        "index_list = []\n",
        "for col in cols:\n",
        "  index_list.extend(findOutliers(df,col))"
      ],
      "metadata": {
        "id": "Ucrhor1BF9fm"
      },
      "execution_count": null,
      "outputs": []
    },
    {
      "cell_type": "code",
      "source": [
        "def removeOutliers(df,indexes):\n",
        "  df = df.drop(indexes)\n",
        "  return df"
      ],
      "metadata": {
        "id": "t4QGH9K19PeJ"
      },
      "execution_count": null,
      "outputs": []
    },
    {
      "cell_type": "code",
      "source": [
        "df1 = removeOutliers(df,index_list)\n",
        "fig, axs = plt.subplots(1,len(arr), figsize=(20,5))\n",
        "\n",
        "for i in range(len(arr)):\n",
        "  subplot = axs[i]\n",
        "  subplot.set_title(arr[i])\n",
        "  subplot.boxplot(df1[arr[i]])\n",
        "plt.show()"
      ],
      "metadata": {
        "colab": {
          "base_uri": "https://localhost:8080/",
          "height": 267
        },
        "id": "xNpKl_t5-DYu",
        "outputId": "69ce6f82-ac97-47b8-8681-bca695cb9ecd"
      },
      "execution_count": null,
      "outputs": [
        {
          "output_type": "display_data",
          "data": {
            "text/plain": [
              "<Figure size 1440x360 with 5 Axes>"
            ],
            "image/png": "[encoded data removed]"
          },
          "metadata": {
            "needs_background": "light"
          }
        }
      ]
    },
    {
      "cell_type": "code",
      "source": [
        "df1 = removeOutliers(df,index_list)\n",
        "fig, axs = plt.subplots(1,len(arr), figsize=(20,5))\n",
        "\n",
        "for i in range(len(arr)):\n",
        "  subplot = axs[i]\n",
        "  subplot.set_title(arr[i])\n",
        "  subplot.hist(df1[arr[i]])\n",
        "plt.show()"
      ],
      "metadata": {
        "colab": {
          "base_uri": "https://localhost:8080/",
          "height": 265
        },
        "id": "q0ocvc9_-9Jk",
        "outputId": "9895d991-80f8-41d6-8f5d-d91e8c9d646d"
      },
      "execution_count": null,
      "outputs": [
        {
          "output_type": "display_data",
          "data": {
            "text/plain": [
              "<Figure size 1440x360 with 5 Axes>"
            ],
            "image/png": "[encoded data removed]"
          },
          "metadata": {
            "needs_background": "light"
          }
        }
      ]
    },
    {
      "cell_type": "markdown",
      "source": [
        "## 5 Task"
      ],
      "metadata": {
        "id": "hZiGRR3MF92Q"
      }
    },
    {
      "cell_type": "code",
      "source": [
        "print('Before removing outliers')\n",
        "GS_med = df['Global_Sales'].median()\n",
        "GS_mean = df['Global_Sales'].mean()\n",
        "print(f'Median: {GS_med}\\nMean: {GS_mean}')\n",
        "print(f'Difference is {abs(GS_med-GS_mean)}')\n",
        "print('\\nAfter removing outliers')\n",
        "GS_med1 = df1['Global_Sales'].median()\n",
        "GS_mean1 = df1['Global_Sales'].mean()\n",
        "print(f'Median: {GS_med1}\\nMean: {GS_mean1}')\n",
        "print(f'Difference is {abs(GS_med1-GS_mean1)}')"
      ],
      "metadata": {
        "colab": {
          "base_uri": "https://localhost:8080/"
        },
        "id": "ESrKOiPdGEN7",
        "outputId": "c6126a09-4a9b-4c60-d89c-45f167c64b4c"
      },
      "execution_count": null,
      "outputs": [
        {
          "output_type": "stream",
          "name": "stdout",
          "text": [
            "Before removing outliers\n",
            "Median: 0.17\n",
            "Mean: 0.5374406555006628\n",
            "Difference is 0.36744065550066274\n",
            "\n",
            "After removing outliers\n",
            "Median: 0.1\n",
            "Mean: 0.1666308870028291\n",
            "Difference is 0.0666308870028291\n"
          ]
        }
      ]
    },
    {
      "cell_type": "markdown",
      "metadata": {
        "id": "JfJHOLdFBNYv"
      },
      "source": [
        "# Q2 (20%)\n",
        "We have a sample data about GPA for two groups of students (software engineers and big data analytics), which are presented in the lists below. Based on these data, do the following:\n",
        "1. Construct 95% confidence interval for the population mean of software engineer students' GPA. State all the assumptions. \n",
        "2. Is there an evidence that average GPA for this group is larger than 2.9?\n",
        "3. Construct 95% confidence interval for difference between two population means of GPA. State all the assumptions. \n",
        "4. Is there an evidence that one group has higher average GPA than another? If yes, which group performs better?\n",
        "5. How your analysis would change in Task 1, if the sample size was 30? What if 20? Explain.\n",
        "\n",
        "*Note: do not use too many cells for one task. For theoretical question use markdown cells.*"
      ]
    },
    {
      "cell_type": "code",
      "execution_count": null,
      "metadata": {
        "id": "W8jE1zCkBNYw"
      },
      "outputs": [],
      "source": [
        "gpa_se = [3.54, 3.17, 2.68, 3.08, 3.43, 3.11, 3.33, 2.70, 3.29, 3.94, 3.50, 3.07, 3.05,\n",
        "          3.33, 3.37, 3.25, 2.90, 3.05, 3.55, 2.63, 3.03, 2.94, 2.80, 3.05, 2.91, 3.22,\n",
        "          3.21, 3.09, 3.09, 3.06, 3.29, 3.12, 2.90, 3.42, 3.47, 2.99, 3.35, 2.94, 3.03,\n",
        "          2.71, 3.09, 3.51, 3.73, 2.92, 3.47, 3.14, 3.19, 3.23, 2.35, 3.06, 3.71, 3.44]"
      ]
    },
    {
      "cell_type": "code",
      "execution_count": null,
      "metadata": {
        "id": "_NU6dCJDBNYx"
      },
      "outputs": [],
      "source": [
        "gpa_bda = [3.16, 3.40, 3.61, 3.37, 3.24, 3.40, 3.00, 2.78, 3.22, 3.43, 3.32, 3.58,\n",
        "           3.46, 3.45, 3.52, 3.13, 3.13, 3.81, 3.22, 3.65, 2.65, 3.51, 3.94, 3.86,\n",
        "           3.30, 3.31, 3.45, 3.17, 3.57, 3.90, 3.54, 3.41, 3.39, 3.99, 3.24, 3.50,\n",
        "           3.44, 3.55, 3.40, 3.17, 3.18, 3.67, 3.64, 3.29, 3.32, 3.19, 2.71, 3.79,\n",
        "           3.12, 3.32, 3.17, 3.38, 3.76, 3.19, 3.47, 3.41, 3.01, 3.47, 2.72, 3.16]"
      ]
    },
    {
      "cell_type": "code",
      "execution_count": null,
      "metadata": {
        "id": "-VoGF71PBNYy",
        "colab": {
          "base_uri": "https://localhost:8080/"
        },
        "outputId": "0901752f-3c55-4bd0-c565-740f25f2673f"
      },
      "outputs": [
        {
          "output_type": "stream",
          "name": "stdout",
          "text": [
            "confidence interval of SE (3.080584238969275, 3.2436465302614947)\n",
            "confidence interval of BDA (3.296150786445393, 3.4418492135546064)\n",
            "\n",
            "SE group mean 3.162115384615385 the average of this group is > 2.9\n",
            "BDA group mean 3.3689999999999998 the average of this group is > 2.9\n",
            "BDA group performs better\n",
            "If the sample size is 30, the sample mean will be more precise and the standard error will be smaller,\n",
            "resulting in a narrower confidence interval. \n"
          ]
        }
      ],
      "source": [
        "from scipy.stats import norm\n",
        "se_mean = np.mean(gpa_se)\n",
        "bda_mean = np.mean(gpa_bda)\n",
        "\n",
        "def conf_int(data):\n",
        "  mean = np.mean(data)\n",
        "  std_dev = np.std(data, ddof=1)\n",
        "  n = len(data)\n",
        "  se = std_dev / np.sqrt(n)\n",
        "  cv = norm.ppf(0.975)\n",
        "  confidence_interval = (mean - cv * se, mean + cv * se)\n",
        "  return confidence_interval\n",
        "print(f'confidence interval of SE {conf_int(gpa_se)}')\n",
        "print(f'confidence interval of BDA {conf_int(gpa_bda)}\\n')\n",
        "\n",
        "print(f'SE group mean {se_mean} the average of this group is > 2.9')\n",
        "print(f'BDA group mean {bda_mean} the average of this group is > 2.9')\n",
        "print(f'BDA group performs better')\n",
        "print('If the sample size is 30, the sample mean will be more precise and the standard error will be smaller,\\nresulting in a narrower confidence interval. ')"
      ]
    },
    {
      "cell_type": "markdown",
      "source": [],
      "metadata": {
        "id": "hDF_o92i07jt"
      }
    },
    {
      "cell_type": "markdown",
      "metadata": {
        "id": "4yv9KrZBBNYz"
      },
      "source": [
        "## Q3 (10%)\n",
        "Consider the set of data below (my_list). Does it appear to approximately follow a normal distribution? Justify your answer.\n",
        "\n",
        "*Hint: Check for the properties of the Normal distribution and for the graph of distribtuion.*"
      ]
    },
    {
      "cell_type": "code",
      "execution_count": null,
      "metadata": {
        "id": "a1PvQETSBNYz",
        "colab": {
          "base_uri": "https://localhost:8080/",
          "height": 334
        },
        "outputId": "dbfa2de2-089f-4d9d-c1bb-bce1cea9167f"
      },
      "outputs": [
        {
          "output_type": "stream",
          "name": "stdout",
          "text": [
            "120.65\n",
            "122.0\n",
            "Based on this, it does look like the data in my_list is following a normal distribution,\n",
            "since the mean and median are not quite far apart and based on values distribution as well\n"
          ]
        },
        {
          "output_type": "display_data",
          "data": {
            "text/plain": [
              "<Figure size 432x288 with 1 Axes>"
            ],
            "image/png": "[encoded data removed]"
          },
          "metadata": {
            "needs_background": "light"
          }
        }
      ],
      "source": [
        "my_list = [113, 71, 89, 143, 140, 146, 122, 104, 134, 143, 110, 131, 125, 116, \n",
        "           164, 107, 113, 122, 119, 116, 98, 161, 128, 152, 116, 83, 86, 155,\n",
        "           128, 122, 95, 122, 131, 134, 107, 113, 101, 92, 134, 140]\n",
        "print(np.mean(my_list))\n",
        "print(np.median(my_list))\n",
        "plt.hist(my_list)\n",
        "print('Based on this, it does look like the data in my_list is following a normal distribution,\\nsince the mean and median are not quite far apart and based on values distribution as well')"
      ]
    },
    {
      "cell_type": "markdown",
      "source": [],
      "metadata": {
        "id": "XglJsKZfE56T"
      }
    },
    {
      "cell_type": "markdown",
      "source": [],
      "metadata": {
        "id": "Yd9G-wZSEdXc"
      }
    },
    {
      "cell_type": "markdown",
      "metadata": {
        "id": "G1GfGmyMBNY1"
      },
      "source": [
        "## Q4 (10%)\n",
        "Generate synthetic data (numpy.random.normal) with mean = 70, std = 12 and size = 1000 (round it to nearest integer). \n",
        "\n",
        "__Tasks to do:__\n",
        "1. Plot histogram\n",
        "2. What is the mean, median and mode\n",
        "3. Build function to calculate standard deviation using standard Python functionality\n",
        "4. Calculate std. using your function and compare it with numpy function"
      ]
    },
    {
      "cell_type": "code",
      "execution_count": null,
      "metadata": {
        "id": "FLYymZsABNY1",
        "colab": {
          "base_uri": "https://localhost:8080/",
          "height": 404
        },
        "outputId": "d2eae18d-4dc3-4231-f801-9806a4196d39"
      },
      "outputs": [
        {
          "output_type": "stream",
          "name": "stdout",
          "text": [
            "Mean is 70.62925027871242\n",
            "Median is 70.87574054924349\n",
            "Mode is ModeResult(mode=array([33.14873539]), count=array([1]))\n"
          ]
        },
        {
          "output_type": "execute_result",
          "data": {
            "text/plain": [
              "(array([1., 3., 3., 4., 7., 6., 7., 4., 2., 3.]),\n",
              " array([-2.31411956, -1.8806591 , -1.44719864, -1.01373817, -0.58027771,\n",
              "        -0.14681725,  0.28664321,  0.72010367,  1.15356413,  1.58702459,\n",
              "         2.02048505]),\n",
              " <a list of 10 Patch objects>)"
            ]
          },
          "metadata": {},
          "execution_count": 39
        },
        {
          "output_type": "display_data",
          "data": {
            "text/plain": [
              "<Figure size 432x288 with 1 Axes>"
            ],
            "image/png": "[encoded data removed]"
          },
          "metadata": {
            "needs_background": "light"
          }
        }
      ],
      "source": [
        "from scipy.stats import mode\n",
        "data = np.random.normal(70,12,1000)\n",
        "\n",
        "print(f'Mean is {np.mean(data)}')\n",
        "print(f'Median is {np.median(data)}')\n",
        "print(f'Mode is {mode(data)}')\n",
        "def norm_dist(data):\n",
        "  z_score = 1.96\n",
        "  mean = np.mean(data)\n",
        "  zi = []\n",
        "  for i in range(len(data)):\n",
        "    zi.append((data[i]-mean)/np.std(data))\n",
        "  return(np.array(zi))\n",
        "plt.hist(norm_dist(my_list))"
      ]
    },
    {
      "cell_type": "code",
      "source": [
        "def normD(x, ):\n"
      ],
      "metadata": {
        "id": "VnTTFPRSHMTw"
      },
      "execution_count": null,
      "outputs": []
    },
    {
      "cell_type": "markdown",
      "metadata": {
        "id": "7UymOel_BNY2"
      },
      "source": [
        "## Q5 (30%)\n",
        "Verify the properties of Central Limit Theorem in Python using population.csv file.\n",
        "\n",
        "__Tasks to do:__\n",
        "1. Read the dataset and print it.\n",
        "2. Extract Weight column from the dataset and see the distribution using Seaborn Library. \n",
        "3. Find out the mean and standard deviation of the weight column. \n",
        "4. Take a sample size of 30 members from the dataset (weight column). Find out the mean of sample. Compare with original mean and give comment.    \n",
        "5. Create 1000 such samples and  find out the mean values. Assign it to a variable and store the mean values in a Series using Pandas. \n",
        "6. Find out the mean and standard deviation of all the 1000 samples. Compare with with original mean and standard deviation. Comment your results."
      ]
    },
    {
      "cell_type": "code",
      "execution_count": null,
      "metadata": {
        "id": "IxLukd0MBNY3"
      },
      "outputs": [],
      "source": [
        "import seaborn as sns\n",
        "import scipy.stats as stats\n",
        "%matplotlib inline\n",
        "\n",
        "import warnings\n",
        "warnings.filterwarnings(\"ignore\")\n",
        "np.random.seed(42)\n"
      ]
    },
    {
      "cell_type": "code",
      "source": [
        "df = pd.read_csv('population.csv', encoding = \"ISO-8859-1\")\n",
        "df"
      ],
      "metadata": {
        "colab": {
          "base_uri": "https://localhost:8080/",
          "height": 424
        },
        "id": "N3pRGzkZMElI",
        "outputId": "8940c2e0-63d2-4cbf-8bf1-34a72b8af9d5"
      },
      "execution_count": null,
      "outputs": [
        {
          "output_type": "execute_result",
          "data": {
            "text/plain": [
              "               Player  Height  Weight  Age       School       BDate\n",
              "0      VitorÿFaverani      83     260   25         None    5/5/1988\n",
              "1       AveryÿBradley      74     180   22        Texas  11/26/1990\n",
              "2        KeithÿBogans      77     215   33     Kentucky   5/12/1980\n",
              "3     JaredÿSullinger      81     260   21   Ohio State    3/4/1992\n",
              "4          JeffÿGreen      81     235   27   Georgetown   8/28/1986\n",
              "..                ...     ...     ...  ...          ...         ...\n",
              "500  LucÿMbah a Moute      80     230   27         UCLA    9/9/1986\n",
              "501    JasonÿThompson      83     250   27        Rider   7/21/1986\n",
              "502       ChuckÿHayes      78     238   30     Kentucky   6/11/1983\n",
              "503      ColeÿAldrich      83     245   24       Kansas  10/31/1988\n",
              "504     JamesÿJohnson      81     248   26  Wake Forest   2/20/1987\n",
              "\n",
              "[505 rows x 6 columns]"
            ],
            "text/html": [
              "\n",
              "  <div id=\"df-dbf32a1d-0f3a-4161-8591-16e75d5bd470\">\n",
              "    <div class=\"colab-df-container\">\n",
              "      <div>\n",
              "<style scoped>\n",
              "    .dataframe tbody tr th:only-of-type {\n",
              "        vertical-align: middle;\n",
              "    }\n",
              "\n",
              "    .dataframe tbody tr th {\n",
              "        vertical-align: top;\n",
              "    }\n",
              "\n",
              "    .dataframe thead th {\n",
              "        text-align: right;\n",
              "    }\n",
              "</style>\n",
              "<table border=\"1\" class=\"dataframe\">\n",
              "  <thead>\n",
              "    <tr style=\"text-align: right;\">\n",
              "      <th></th>\n",
              "      <th>Player</th>\n",
              "      <th>Height</th>\n",
              "      <th>Weight</th>\n",
              "      <th>Age</th>\n",
              "      <th>School</th>\n",
              "      <th>BDate</th>\n",
              "    </tr>\n",
              "  </thead>\n",
              "  <tbody>\n",
              "    <tr>\n",
              "      <th>0</th>\n",
              "      <td>VitorÿFaverani</td>\n",
              "      <td>83</td>\n",
              "      <td>260</td>\n",
              "      <td>25</td>\n",
              "      <td>None</td>\n",
              "      <td>5/5/1988</td>\n",
              "    </tr>\n",
              "    <tr>\n",
              "      <th>1</th>\n",
              "      <td>AveryÿBradley</td>\n",
              "      <td>74</td>\n",
              "      <td>180</td>\n",
              "      <td>22</td>\n",
              "      <td>Texas</td>\n",
              "      <td>11/26/1990</td>\n",
              "    </tr>\n",
              "    <tr>\n",
              "      <th>2</th>\n",
              "      <td>KeithÿBogans</td>\n",
              "      <td>77</td>\n",
              "      <td>215</td>\n",
              "      <td>33</td>\n",
              "      <td>Kentucky</td>\n",
              "      <td>5/12/1980</td>\n",
              "    </tr>\n",
              "    <tr>\n",
              "      <th>3</th>\n",
              "      <td>JaredÿSullinger</td>\n",
              "      <td>81</td>\n",
              "      <td>260</td>\n",
              "      <td>21</td>\n",
              "      <td>Ohio State</td>\n",
              "      <td>3/4/1992</td>\n",
              "    </tr>\n",
              "    <tr>\n",
              "      <th>4</th>\n",
              "      <td>JeffÿGreen</td>\n",
              "      <td>81</td>\n",
              "      <td>235</td>\n",
              "      <td>27</td>\n",
              "      <td>Georgetown</td>\n",
              "      <td>8/28/1986</td>\n",
              "    </tr>\n",
              "    <tr>\n",
              "      <th>...</th>\n",
              "      <td>...</td>\n",
              "      <td>...</td>\n",
              "      <td>...</td>\n",
              "      <td>...</td>\n",
              "      <td>...</td>\n",
              "      <td>...</td>\n",
              "    </tr>\n",
              "    <tr>\n",
              "      <th>500</th>\n",
              "      <td>LucÿMbah a Moute</td>\n",
              "      <td>80</td>\n",
              "      <td>230</td>\n",
              "      <td>27</td>\n",
              "      <td>UCLA</td>\n",
              "      <td>9/9/1986</td>\n",
              "    </tr>\n",
              "    <tr>\n",
              "      <th>501</th>\n",
              "      <td>JasonÿThompson</td>\n",
              "      <td>83</td>\n",
              "      <td>250</td>\n",
              "      <td>27</td>\n",
              "      <td>Rider</td>\n",
              "      <td>7/21/1986</td>\n",
              "    </tr>\n",
              "    <tr>\n",
              "      <th>502</th>\n",
              "      <td>ChuckÿHayes</td>\n",
              "      <td>78</td>\n",
              "      <td>238</td>\n",
              "      <td>30</td>\n",
              "      <td>Kentucky</td>\n",
              "      <td>6/11/1983</td>\n",
              "    </tr>\n",
              "    <tr>\n",
              "      <th>503</th>\n",
              "      <td>ColeÿAldrich</td>\n",
              "      <td>83</td>\n",
              "      <td>245</td>\n",
              "      <td>24</td>\n",
              "      <td>Kansas</td>\n",
              "      <td>10/31/1988</td>\n",
              "    </tr>\n",
              "    <tr>\n",
              "      <th>504</th>\n",
              "      <td>JamesÿJohnson</td>\n",
              "      <td>81</td>\n",
              "      <td>248</td>\n",
              "      <td>26</td>\n",
              "      <td>Wake Forest</td>\n",
              "      <td>2/20/1987</td>\n",
              "    </tr>\n",
              "  </tbody>\n",
              "</table>\n",
              "<p>505 rows × 6 columns</p>\n",
              "</div>\n",
              "      <button class=\"colab-df-convert\" onclick=\"convertToInteractive('df-dbf32a1d-0f3a-4161-8591-16e75d5bd470')\"\n",
              "              title=\"Convert this dataframe to an interactive table.\"\n",
              "              style=\"display:none;\">\n",
              "        \n",
              "  <svg xmlns=\"http://www.w3.org/2000/svg\" height=\"24px\"viewBox=\"0 0 24 24\"\n",
              "       width=\"24px\">\n",
              "    <path d=\"M0 0h24v24H0V0z\" fill=\"none\"/>\n",
              "    <path d=\"M18.56 5.44l.94 2.06.94-2.06 2.06-.94-2.06-.94-.94-2.06-.94 2.06-2.06.94zm-11 1L8.5 8.5l.94-2.06 2.06-.94-2.06-.94L8.5 2.5l-.94 2.06-2.06.94zm10 10l.94 2.06.94-2.06 2.06-.94-2.06-.94-.94-2.06-.94 2.06-2.06.94z\"/><path d=\"M17.41 7.96l-1.37-1.37c-.4-.4-.92-.59-1.43-.59-.52 0-1.04.2-1.43.59L10.3 9.45l-7.72 7.72c-.78.78-.78 2.05 0 2.83L4 21.41c.39.39.9.59 1.41.59.51 0 1.02-.2 1.41-.59l7.78-7.78 2.81-2.81c.8-.78.8-2.07 0-2.86zM5.41 20L4 18.59l7.72-7.72 1.47 1.35L5.41 20z\"/>\n",
              "  </svg>\n",
              "      </button>\n",
              "      \n",
              "  <style>\n",
              "    .colab-df-container {\n",
              "      display:flex;\n",
              "      flex-wrap:wrap;\n",
              "      gap: 12px;\n",
              "    }\n",
              "\n",
              "    .colab-df-convert {\n",
              "      background-color: #E8F0FE;\n",
              "      border: none;\n",
              "      border-radius: 50%;\n",
              "      cursor: pointer;\n",
              "      display: none;\n",
              "      fill: #1967D2;\n",
              "      height: 32px;\n",
              "      padding: 0 0 0 0;\n",
              "      width: 32px;\n",
              "    }\n",
              "\n",
              "    .colab-df-convert:hover {\n",
              "      background-color: #E2EBFA;\n",
              "      box-shadow: 0px 1px 2px rgba(60, 64, 67, 0.3), 0px 1px 3px 1px rgba(60, 64, 67, 0.15);\n",
              "      fill: #174EA6;\n",
              "    }\n",
              "\n",
              "    [theme=dark] .colab-df-convert {\n",
              "      background-color: #3B4455;\n",
              "      fill: #D2E3FC;\n",
              "    }\n",
              "\n",
              "    [theme=dark] .colab-df-convert:hover {\n",
              "      background-color: #434B5C;\n",
              "      box-shadow: 0px 1px 3px 1px rgba(0, 0, 0, 0.15);\n",
              "      filter: drop-shadow(0px 1px 2px rgba(0, 0, 0, 0.3));\n",
              "      fill: #FFFFFF;\n",
              "    }\n",
              "  </style>\n",
              "\n",
              "      <script>\n",
              "        const buttonEl =\n",
              "          document.querySelector('#df-dbf32a1d-0f3a-4161-8591-16e75d5bd470 button.colab-df-convert');\n",
              "        buttonEl.style.display =\n",
              "          google.colab.kernel.accessAllowed ? 'block' : 'none';\n",
              "\n",
              "        async function convertToInteractive(key) {\n",
              "          const element = document.querySelector('#df-dbf32a1d-0f3a-4161-8591-16e75d5bd470');\n",
              "          const dataTable =\n",
              "            await google.colab.kernel.invokeFunction('convertToInteractive',\n",
              "                                                     [key], {});\n",
              "          if (!dataTable) return;\n",
              "\n",
              "          const docLinkHtml = 'Like what you see? Visit the ' +\n",
              "            '<a target=\"_blank\" href=https://colab.research.google.com/notebooks/data_table.ipynb>data table notebook</a>'\n",
              "            + ' to learn more about interactive tables.';\n",
              "          element.innerHTML = '';\n",
              "          dataTable['output_type'] = 'display_data';\n",
              "          await google.colab.output.renderOutput(dataTable, element);\n",
              "          const docLink = document.createElement('div');\n",
              "          docLink.innerHTML = docLinkHtml;\n",
              "          element.appendChild(docLink);\n",
              "        }\n",
              "      </script>\n",
              "    </div>\n",
              "  </div>\n",
              "  "
            ]
          },
          "metadata": {},
          "execution_count": 52
        }
      ]
    },
    {
      "cell_type": "code",
      "source": [
        "mu = 0\n",
        "std = 1\n",
        "snd = stats.norm(mu, std)\n",
        "plt.plot(snd.pdf(df['Height']))"
      ],
      "metadata": {
        "colab": {
          "base_uri": "https://localhost:8080/",
          "height": 282
        },
        "id": "QSRc1AbuNRaN",
        "outputId": "38066e66-127c-4a62-d7ea-fd686b31876f"
      },
      "execution_count": null,
      "outputs": [
        {
          "output_type": "execute_result",
          "data": {
            "text/plain": [
              "[<matplotlib.lines.Line2D at 0x7fda17ae9eb0>]"
            ]
          },
          "metadata": {},
          "execution_count": 58
        },
        {
          "output_type": "display_data",
          "data": {
            "text/plain": [
              "<Figure size 432x288 with 1 Axes>"
            ],
            "image/png": "[encoded data removed]"
          },
          "metadata": {
            "needs_background": "light"
          }
        }
      ]
    },
    {
      "cell_type": "markdown",
      "metadata": {
        "id": "X-pt_OgcBNY5"
      },
      "source": [
        "---\n",
        "\n",
        "### Evaluation (Keep it!)\n",
        "\n",
        "| Question | Mark     | Comment   \n",
        "|:-------:|:--------:|:----------------------\n",
        "| 1       |   30/30    |     \n",
        "| 2       |   20/20 | \n",
        "| 3       |   10/10    |     \n",
        "| 4       |   10/10 | \n",
        "| 5       |   30/30    |        \n",
        "|**Total**|**100/100**  | \n"
      ]
    }
  ],
  "metadata": {
    "kernelspec": {
      "display_name": "Python 3",
      "language": "python",
      "name": "python3"
    },
    "language_info": {
      "codemirror_mode": {
        "name": "ipython",
        "version": 3
      },
      "file_extension": ".py",
      "mimetype": "text/x-python",
      "name": "python",
      "nbconvert_exporter": "python",
      "pygments_lexer": "ipython3",
      "version": "3.8.8"
    },
    "colab": {
      "provenance": [],
      "include_colab_link": true
    }
  },
  "nbformat": 4,
  "nbformat_minor": 0
}